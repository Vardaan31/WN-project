{
 "cells": [
  {
   "cell_type": "code",
   "execution_count": 1,
   "metadata": {
    "execution": {
     "iopub.execute_input": "2023-05-09T12:45:24.755913Z",
     "iopub.status.busy": "2023-05-09T12:45:24.755437Z",
     "iopub.status.idle": "2023-05-09T12:45:36.577846Z",
     "shell.execute_reply": "2023-05-09T12:45:36.576629Z",
     "shell.execute_reply.started": "2023-05-09T12:45:24.755876Z"
    }
   },
   "outputs": [
    {
     "name": "stdout",
     "output_type": "stream",
     "text": [
      "Collecting tensorflow-model-optimization\n",
      "  Downloading tensorflow_model_optimization-0.7.4-py2.py3-none-any.whl (240 kB)\n",
      "\u001b[2K     \u001b[90m━━━━━━━━━━━━━━━━━━━━━━━━━━━━━━━━━━━━━━━\u001b[0m \u001b[32m240.6/240.6 kB\u001b[0m \u001b[31m5.4 MB/s\u001b[0m eta \u001b[36m0:00:00\u001b[0m00:01\u001b[0m\n",
      "\u001b[?25hRequirement already satisfied: six~=1.14 in /opt/conda/lib/python3.7/site-packages (from tensorflow-model-optimization) (1.16.0)\n",
      "  Downloading tensorflow_model_optimization-0.7.3-py2.py3-none-any.whl (238 kB)\n",
      "\u001b[2K     \u001b[90m━━━━━━━━━━━━━━━━━━━━━━━━━━━━━━━━━━━━━━\u001b[0m \u001b[32m238.9/238.9 kB\u001b[0m \u001b[31m22.8 MB/s\u001b[0m eta \u001b[36m0:00:00\u001b[0m\n",
      "\u001b[?25hRequirement already satisfied: numpy~=1.14 in /opt/conda/lib/python3.7/site-packages (from tensorflow-model-optimization) (1.21.6)\n",
      "Requirement already satisfied: dm-tree~=0.1.1 in /opt/conda/lib/python3.7/site-packages (from tensorflow-model-optimization) (0.1.8)\n",
      "Installing collected packages: tensorflow-model-optimization\n",
      "Successfully installed tensorflow-model-optimization-0.7.3\n",
      "\u001b[33mWARNING: Running pip as the 'root' user can result in broken permissions and conflicting behaviour with the system package manager. It is recommended to use a virtual environment instead: https://pip.pypa.io/warnings/venv\u001b[0m\u001b[33m\n",
      "\u001b[0m"
     ]
    }
   ],
   "source": [
    "!pip install tensorflow-model-optimization"
   ]
  },
  {
   "cell_type": "markdown",
   "metadata": {},
   "source": [
    "# Necessary Imports"
   ]
  },
  {
   "cell_type": "code",
   "execution_count": 2,
   "metadata": {
    "execution": {
     "iopub.execute_input": "2023-05-09T12:45:36.582145Z",
     "iopub.status.busy": "2023-05-09T12:45:36.581397Z",
     "iopub.status.idle": "2023-05-09T12:45:44.121780Z",
     "shell.execute_reply": "2023-05-09T12:45:44.120738Z",
     "shell.execute_reply.started": "2023-05-09T12:45:36.582105Z"
    }
   },
   "outputs": [],
   "source": [
    "import numpy as np \n",
    "import tensorflow as tf\n",
    "from tensorflow import keras\n",
    "import glob\n",
    "import os\n",
    "import csv\n",
    "import tempfile\n",
    "import tensorflow_model_optimization as tfmot\n",
    "from tensorflow_model_optimization.sparsity import keras as sparsity\n",
    "import sys\n",
    "from sklearn.model_selection import train_test_split\n",
    "from sklearn.utils import class_weight\n",
    "import math\n",
    "from sklearn.metrics import confusion_matrix\n",
    "import matplotlib.pyplot as plt\n",
    "from sklearn.metrics import classification_report\n",
    "from tensorflow_model_optimization.sparsity.keras import UpdatePruningStep\n",
    "import tensorflow.lite as lite\n",
    "from tensorflow.lite.python import lite_constants\n",
    "from tensorflow.keras.models import load_model\n",
    "import pickle"
   ]
  },
  {
   "cell_type": "markdown",
   "metadata": {},
   "source": [
    "# Attention Layer Definition (from https://github.com/ludlows/CSI-Activity-Recognition)"
   ]
  },
  {
   "cell_type": "code",
   "execution_count": 3,
   "metadata": {
    "execution": {
     "iopub.execute_input": "2023-05-09T12:45:44.124389Z",
     "iopub.status.busy": "2023-05-09T12:45:44.123621Z",
     "iopub.status.idle": "2023-05-09T12:45:44.135375Z",
     "shell.execute_reply": "2023-05-09T12:45:44.133820Z",
     "shell.execute_reply.started": "2023-05-09T12:45:44.124348Z"
    }
   },
   "outputs": [],
   "source": [
    "class AttenLayer(tf.keras.layers.Layer):\n",
    "    def __init__(self, num_state, **kw):\n",
    "        super(AttenLayer, self).__init__(**kw)\n",
    "        self.num_state = num_state\n",
    "    \n",
    "    def build(self, input_shape):\n",
    "        self.kernel = self.add_weight('kernel', shape=[input_shape[-1], self.num_state])\n",
    "        self.bias = self.add_weight('bias', shape=[self.num_state])\n",
    "        self.prob_kernel = self.add_weight('prob_kernel', shape=[self.num_state])\n",
    "\n",
    "    def call(self, input_tensor):\n",
    "        atten_state = tf.tanh(tf.tensordot(input_tensor, self.kernel, axes=1) + self.bias)\n",
    "        logits = tf.tensordot(atten_state, self.prob_kernel, axes=1)\n",
    "        prob = tf.nn.softmax(logits)\n",
    "        weighted_feature = tf.reduce_sum(tf.multiply(input_tensor, tf.expand_dims(prob, -1)), axis=1)\n",
    "        return weighted_feature\n",
    "    \n",
    "    # for saving the model\n",
    "    def get_config(self):\n",
    "        config = super().get_config().copy()\n",
    "        config.update({\n",
    "            'num_state': self.num_state,})\n",
    "        return config"
   ]
  },
  {
   "cell_type": "markdown",
   "metadata": {},
   "source": [
    "# Original Bi-LSTM Model (from https://github.com/ludlows/CSI-Activity-Recognition)"
   ]
  },
  {
   "cell_type": "code",
   "execution_count": 4,
   "metadata": {
    "_cell_guid": "b1076dfc-b9ad-4769-8c92-a6c4dae69d19",
    "_uuid": "8f2839f25d086af736a60e9eeb907d3b93b6e0e5",
    "execution": {
     "iopub.execute_input": "2023-05-09T12:45:44.140628Z",
     "iopub.status.busy": "2023-05-09T12:45:44.139809Z",
     "iopub.status.idle": "2023-05-09T12:45:44.157334Z",
     "shell.execute_reply": "2023-05-09T12:45:44.156239Z",
     "shell.execute_reply.started": "2023-05-09T12:45:44.140589Z"
    }
   },
   "outputs": [],
   "source": [
    "class CSIModelConfig_original:\n",
    "    def __init__(self, win_len=1000, step=200, thrshd=0.6, downsample=2):\n",
    "        self._win_len = win_len\n",
    "        self._step = step\n",
    "        self._thrshd = thrshd\n",
    "        self._labels = (\"bed\", \"fall\", \"pickup\", \"run\", \"sitdown\", \"standup\", \"walk\")\n",
    "        self._downsample = downsample\n",
    "\n",
    "    def preprocessing(self, raw_folder, save=False):\n",
    "        numpy_tuple = extract_csi(raw_folder, self._labels, save, self._win_len, self._thrshd, self._step)\n",
    "        if self._downsample > 1:\n",
    "            return tuple([v[:, ::self._downsample,...] if i%2 ==0 else v for i, v in enumerate(numpy_tuple)])\n",
    "        return numpy_tuple\n",
    "    \n",
    "    def load_csi_data_from_files(self, np_files):\n",
    "        if len(np_files) != 7:\n",
    "            raise ValueError('There should be 7 numpy files for bed, fall, pickup, run, sitdown, standup, walk.')\n",
    "        x = [np.load(f)['arr_0'] for f in np_files]\n",
    "        if self._downsample > 1:\n",
    "            x = [arr[:,::self._downsample, :] for arr in x]\n",
    "        y = [np.zeros((arr.shape[0], len(self._labels))) for arr in x]\n",
    "        numpy_list = []\n",
    "        for i in range(len(self._labels)):\n",
    "            y[i][:,i] = 1\n",
    "            numpy_list.append(x[i])\n",
    "            numpy_list.append(y[i])\n",
    "        return tuple(numpy_list)\n",
    "\n",
    "\n",
    "    \n",
    "    def build_model(self, n_unit_lstm=200, n_unit_atten=400):\n",
    "        if self._downsample > 1:\n",
    "            length = len(np.ones((self._win_len,))[::self._downsample])\n",
    "            x_in = tf.keras.Input(shape=(length, 90))\n",
    "        else:\n",
    "            x_in = tf.keras.Input(shape=(self._win_len, 90))\n",
    "        x_tensor = tf.keras.layers.Bidirectional(tf.keras.layers.LSTM(units=n_unit_lstm, return_sequences=True))(x_in)\n",
    "        x_tensor = AttenLayer(n_unit_atten)(x_tensor)\n",
    "        pred = tf.keras.layers.Dense(len(self._labels), activation='softmax')(x_tensor)\n",
    "        model = tf.keras.Model(inputs=x_in, outputs=pred)\n",
    "        return model\n",
    "    \n",
    "    \n",
    "    @staticmethod\n",
    "    def load_model(hdf5path):\n",
    "        \"\"\"\n",
    "        Returns the Tensorflow Model for AttenLayer\n",
    "        Args:\n",
    "            hdf5path: str, the model file path\n",
    "        \"\"\"\n",
    "        model = tf.keras.models.load_model(hdf5path, custom_objects={'AttenLayer':AttenLayer})\n",
    "        return model"
   ]
  },
  {
   "cell_type": "code",
   "execution_count": 5,
   "metadata": {
    "execution": {
     "iopub.execute_input": "2023-05-09T12:45:44.159412Z",
     "iopub.status.busy": "2023-05-09T12:45:44.159032Z",
     "iopub.status.idle": "2023-05-09T12:45:44.171077Z",
     "shell.execute_reply": "2023-05-09T12:45:44.170123Z",
     "shell.execute_reply.started": "2023-05-09T12:45:44.159375Z"
    }
   },
   "outputs": [],
   "source": [
    "cfg = CSIModelConfig_original(win_len=1000, step=200, thrshd=0.6, downsample=2)"
   ]
  },
  {
   "cell_type": "code",
   "execution_count": 6,
   "metadata": {
    "execution": {
     "iopub.execute_input": "2023-05-09T12:45:44.175040Z",
     "iopub.status.busy": "2023-05-09T12:45:44.174699Z",
     "iopub.status.idle": "2023-05-09T12:46:05.866376Z",
     "shell.execute_reply": "2023-05-09T12:46:05.865255Z",
     "shell.execute_reply.started": "2023-05-09T12:45:44.175014Z"
    }
   },
   "outputs": [],
   "source": [
    "# define paths to numpy files\n",
    "x_train_path = '/kaggle/input/inputs-np/x_train.npy'\n",
    "y_train_path = '/kaggle/input/inputs-np/y_train.npy'\n",
    "x_valid_path = '/kaggle/input/inputs-np/x_valid.npy'\n",
    "y_valid_path = '/kaggle/input/inputs-np/y_valid.npy'\n",
    "x_test_path = '/kaggle/input/inputs-np/x_test.npy'\n",
    "y_test_path = '/kaggle/input/inputs-np/y_test.npy'\n",
    "\n",
    "# check if numpy files exist\n",
    "if os.path.exists(x_train_path) and os.path.exists(y_train_path) and os.path.exists(x_valid_path) and os.path.exists(y_valid_path) and os.path.exists(x_test_path) and os.path.exists(y_test_path):\n",
    "    # load data from numpy files\n",
    "    x_train = np.load(x_train_path)\n",
    "    y_train = np.load(y_train_path)\n",
    "    x_valid = np.load(x_valid_path)\n",
    "    y_valid = np.load(y_valid_path)\n",
    "    x_test = np.load(x_test_path)\n",
    "    y_test = np.load(y_test_path)\n",
    "else:\n",
    "    # read data from npz files\n",
    "    numpy_tuple = cfg.load_csi_data_from_files(('/kaggle/input/npz-har-csi/x_bed.npz', '/kaggle/input/npz-har-csi/x_fall.npz', '/kaggle/input/npz-har-csi/x_pickup.npz', '/kaggle/input/npz-har-csi/x_run.npz', '/kaggle/input/npz-har-csi/x_sitdown.npz', '/kaggle/input/npz-har-csi/x_standup.npz', '/kaggle/input/npz-har-csi/x_walk.npz'))\n",
    "    x_bed, y_bed, x_fall, y_fall, x_pickup, y_pickup, x_run, y_run, x_sitdown, y_sitdown, x_standup, y_standup, x_walk, y_walk = numpy_tuple\n",
    "\n",
    "    # combine data and labels\n",
    "    x = np.concatenate([x_bed, x_fall, x_pickup, x_run, x_sitdown, x_standup, x_walk])\n",
    "    y = np.concatenate([y_bed, y_fall, y_pickup, y_run, y_sitdown, y_standup, y_walk])\n",
    "\n",
    "    # split data into train and test sets\n",
    "    x_train, x_test, y_train, y_test = train_test_split(x, y, test_size=0.2, stratify=y, random_state=379)\n",
    "\n",
    "    # split train data into train and validation sets\n",
    "    x_train, x_valid, y_train, y_valid = train_test_split(x_train, y_train, test_size=0.1, stratify=y_train, random_state=379)\n",
    "\n",
    "    # save data as numpy files\n",
    "    np.save(x_train_path, x_train)\n",
    "    np.save(y_train_path, y_train)\n",
    "    np.save(x_valid_path, x_valid)\n",
    "    np.save(y_valid_path, y_valid)\n",
    "    np.save(x_test_path, x_test)\n",
    "    np.save(y_test_path, y_test)"
   ]
  },
  {
   "cell_type": "code",
   "execution_count": 7,
   "metadata": {
    "execution": {
     "iopub.execute_input": "2023-05-09T12:46:05.873958Z",
     "iopub.status.busy": "2023-05-09T12:46:05.868132Z",
     "iopub.status.idle": "2023-05-09T12:46:05.881735Z",
     "shell.execute_reply": "2023-05-09T12:46:05.880600Z",
     "shell.execute_reply.started": "2023-05-09T12:46:05.873893Z"
    }
   },
   "outputs": [
    {
     "name": "stdout",
     "output_type": "stream",
     "text": [
      "(5098, 500, 90)\n",
      "(5098, 7)\n",
      "\n",
      "(567, 500, 90)\n",
      "(567, 7)\n",
      "\n",
      "(1417, 500, 90)\n",
      "(1417, 7)\n"
     ]
    }
   ],
   "source": [
    "print(x_train.shape)\n",
    "print(y_train.shape)\n",
    "print()\n",
    "print(x_valid.shape)\n",
    "print(y_valid.shape)\n",
    "print()\n",
    "print(x_test.shape)\n",
    "print(y_test.shape)"
   ]
  },
  {
   "cell_type": "code",
   "execution_count": 14,
   "metadata": {
    "execution": {
     "iopub.execute_input": "2023-05-09T09:49:18.512084Z",
     "iopub.status.busy": "2023-05-09T09:49:18.510895Z",
     "iopub.status.idle": "2023-05-09T09:49:19.024006Z",
     "shell.execute_reply": "2023-05-09T09:49:19.022924Z",
     "shell.execute_reply.started": "2023-05-09T09:49:18.512035Z"
    }
   },
   "outputs": [
    {
     "data": {
      "image/png": "[encoded data removed]",
      "text/plain": [
       "<Figure size 1500x500 with 3 Axes>"
      ]
     },
     "metadata": {},
     "output_type": "display_data"
    }
   ],
   "source": [
    "train_classes = np.argmax(y_train, axis=1)\n",
    "valid_classes = np.argmax(y_valid, axis=1)\n",
    "test_classes = np.argmax(y_test, axis=1)\n",
    "\n",
    "# Calculate the number of classes\n",
    "num_classes = len(np.unique(train_classes))\n",
    "\n",
    "# Calculate class counts for train, valid, and test sets\n",
    "train_class_counts = np.zeros(num_classes)\n",
    "valid_class_counts = np.zeros(num_classes)\n",
    "test_class_counts = np.zeros(num_classes)\n",
    "\n",
    "for i in range(num_classes):\n",
    "    train_class_counts[i] = np.sum(train_classes == i)\n",
    "    valid_class_counts[i] = np.sum(valid_classes == i)\n",
    "    test_class_counts[i] = np.sum(test_classes == i)\n",
    "\n",
    "# Create a figure with three subplots\n",
    "fig, (ax1, ax2, ax3) = plt.subplots(1, 3, figsize=(15, 5))\n",
    "\n",
    "# Plot the class distribution for y_train\n",
    "ax1.bar(np.arange(num_classes), train_class_counts)\n",
    "ax1.set_xlabel('Class')\n",
    "ax1.set_ylabel('Count')\n",
    "ax1.set_title('Train Class distribution')\n",
    "\n",
    "# Plot the class distribution for y_valid\n",
    "ax2.bar(np.arange(num_classes), valid_class_counts)\n",
    "ax2.set_xlabel('Class')\n",
    "ax2.set_ylabel('Count')\n",
    "ax2.set_title('Valid Class distribution')\n",
    "\n",
    "# Plot the class distribution for y_test\n",
    "ax3.bar(np.arange(num_classes), test_class_counts)\n",
    "ax3.set_xlabel('Class')\n",
    "ax3.set_ylabel('Count')\n",
    "ax3.set_title('Test Class distribution')\n",
    "\n",
    "# Display the figure\n",
    "plt.show()\n"
   ]
  },
  {
   "cell_type": "code",
   "execution_count": 8,
   "metadata": {
    "execution": {
     "iopub.execute_input": "2023-05-09T11:36:06.831153Z",
     "iopub.status.busy": "2023-05-09T11:36:06.830724Z",
     "iopub.status.idle": "2023-05-09T11:36:06.836557Z",
     "shell.execute_reply": "2023-05-09T11:36:06.835324Z",
     "shell.execute_reply.started": "2023-05-09T11:36:06.831115Z"
    }
   },
   "outputs": [],
   "source": [
    "cfg = CSIModelConfig_original(win_len=1000, step=200, thrshd=0.6, downsample=2)"
   ]
  },
  {
   "cell_type": "code",
   "execution_count": 28,
   "metadata": {
    "execution": {
     "iopub.execute_input": "2023-05-09T10:20:56.200815Z",
     "iopub.status.busy": "2023-05-09T10:20:56.200400Z",
     "iopub.status.idle": "2023-05-09T10:30:52.062532Z",
     "shell.execute_reply": "2023-05-09T10:30:52.061415Z",
     "shell.execute_reply.started": "2023-05-09T10:20:56.200779Z"
    }
   },
   "outputs": [
    {
     "name": "stdout",
     "output_type": "stream",
     "text": [
      "Model: \"model_2\"\n",
      "_________________________________________________________________\n",
      " Layer (type)                Output Shape              Param #   \n",
      "=================================================================\n",
      " input_3 (InputLayer)        [(None, 500, 90)]         0         \n",
      "                                                                 \n",
      " bidirectional_2 (Bidirectio  (None, 500, 400)         465600    \n",
      " nal)                                                            \n",
      "                                                                 \n",
      " atten_layer_2 (AttenLayer)  (None, 400)               160800    \n",
      "                                                                 \n",
      " dense_2 (Dense)             (None, 7)                 2807      \n",
      "                                                                 \n",
      "=================================================================\n",
      "Total params: 629,207\n",
      "Trainable params: 629,207\n",
      "Non-trainable params: 0\n",
      "_________________________________________________________________\n",
      "Epoch 1/150\n",
      "40/40 [==============================] - 13s 211ms/step - loss: 1.5584 - accuracy: 0.4188 - val_loss: 1.2772 - val_accuracy: 0.5397\n",
      "Epoch 2/150\n",
      "40/40 [==============================] - 7s 178ms/step - loss: 1.1290 - accuracy: 0.6222 - val_loss: 1.0223 - val_accuracy: 0.7072\n",
      "Epoch 3/150\n",
      "40/40 [==============================] - 7s 178ms/step - loss: 0.9255 - accuracy: 0.7115 - val_loss: 0.8722 - val_accuracy: 0.7460\n",
      "Epoch 4/150\n",
      "40/40 [==============================] - 7s 178ms/step - loss: 0.8070 - accuracy: 0.7483 - val_loss: 0.7717 - val_accuracy: 0.7813\n",
      "Epoch 5/150\n",
      "40/40 [==============================] - 7s 178ms/step - loss: 0.7274 - accuracy: 0.7762 - val_loss: 0.6909 - val_accuracy: 0.7937\n",
      "Epoch 6/150\n",
      "40/40 [==============================] - 7s 179ms/step - loss: 0.6538 - accuracy: 0.8068 - val_loss: 0.6363 - val_accuracy: 0.8042\n",
      "Epoch 7/150\n",
      "40/40 [==============================] - 7s 177ms/step - loss: 0.6013 - accuracy: 0.8248 - val_loss: 0.6194 - val_accuracy: 0.7989\n",
      "Epoch 8/150\n",
      "40/40 [==============================] - 7s 177ms/step - loss: 0.5681 - accuracy: 0.8362 - val_loss: 0.5532 - val_accuracy: 0.8377\n",
      "Epoch 9/150\n",
      "40/40 [==============================] - 7s 176ms/step - loss: 0.5191 - accuracy: 0.8535 - val_loss: 0.5428 - val_accuracy: 0.8272\n",
      "Epoch 10/150\n",
      "40/40 [==============================] - 7s 178ms/step - loss: 0.4998 - accuracy: 0.8554 - val_loss: 0.4858 - val_accuracy: 0.8483\n",
      "Epoch 11/150\n",
      "40/40 [==============================] - 7s 178ms/step - loss: 0.4502 - accuracy: 0.8719 - val_loss: 0.4352 - val_accuracy: 0.8959\n",
      "Epoch 12/150\n",
      "40/40 [==============================] - 7s 176ms/step - loss: 0.4161 - accuracy: 0.8864 - val_loss: 0.3915 - val_accuracy: 0.8959\n",
      "Epoch 13/150\n",
      "40/40 [==============================] - 7s 176ms/step - loss: 0.3755 - accuracy: 0.9011 - val_loss: 0.3928 - val_accuracy: 0.8713\n",
      "Epoch 14/150\n",
      "40/40 [==============================] - 7s 179ms/step - loss: 0.3540 - accuracy: 0.9056 - val_loss: 0.3455 - val_accuracy: 0.8977\n",
      "Epoch 15/150\n",
      "40/40 [==============================] - 7s 178ms/step - loss: 0.3396 - accuracy: 0.9092 - val_loss: 0.3385 - val_accuracy: 0.9136\n",
      "Epoch 16/150\n",
      "40/40 [==============================] - 7s 178ms/step - loss: 0.3205 - accuracy: 0.9168 - val_loss: 0.3331 - val_accuracy: 0.9153\n",
      "Epoch 17/150\n",
      "40/40 [==============================] - 7s 177ms/step - loss: 0.2939 - accuracy: 0.9233 - val_loss: 0.2701 - val_accuracy: 0.9471\n",
      "Epoch 18/150\n",
      "40/40 [==============================] - 7s 177ms/step - loss: 0.2909 - accuracy: 0.9235 - val_loss: 0.2683 - val_accuracy: 0.9347\n",
      "Epoch 19/150\n",
      "40/40 [==============================] - 7s 176ms/step - loss: 0.2625 - accuracy: 0.9337 - val_loss: 0.2715 - val_accuracy: 0.9330\n",
      "Epoch 20/150\n",
      "40/40 [==============================] - 7s 177ms/step - loss: 0.2589 - accuracy: 0.9317 - val_loss: 0.2433 - val_accuracy: 0.9453\n",
      "Epoch 21/150\n",
      "40/40 [==============================] - 7s 178ms/step - loss: 0.2303 - accuracy: 0.9437 - val_loss: 0.2262 - val_accuracy: 0.9524\n",
      "Epoch 22/150\n",
      "40/40 [==============================] - 7s 178ms/step - loss: 0.2244 - accuracy: 0.9451 - val_loss: 0.2031 - val_accuracy: 0.9594\n",
      "Epoch 23/150\n",
      "40/40 [==============================] - 7s 177ms/step - loss: 0.2236 - accuracy: 0.9421 - val_loss: 0.2235 - val_accuracy: 0.9471\n",
      "Epoch 24/150\n",
      "40/40 [==============================] - 7s 177ms/step - loss: 0.1964 - accuracy: 0.9504 - val_loss: 0.2339 - val_accuracy: 0.9330\n",
      "Epoch 25/150\n",
      "40/40 [==============================] - 7s 177ms/step - loss: 0.2151 - accuracy: 0.9449 - val_loss: 0.2147 - val_accuracy: 0.9400\n",
      "Epoch 26/150\n",
      "40/40 [==============================] - 7s 177ms/step - loss: 0.2048 - accuracy: 0.9478 - val_loss: 0.1987 - val_accuracy: 0.9612\n",
      "Epoch 27/150\n",
      "40/40 [==============================] - 7s 179ms/step - loss: 0.1957 - accuracy: 0.9521 - val_loss: 0.1783 - val_accuracy: 0.9665\n",
      "Epoch 28/150\n",
      "40/40 [==============================] - 7s 178ms/step - loss: 0.1922 - accuracy: 0.9555 - val_loss: 0.2005 - val_accuracy: 0.9524\n",
      "Epoch 29/150\n",
      "40/40 [==============================] - 7s 177ms/step - loss: 0.1754 - accuracy: 0.9580 - val_loss: 0.1816 - val_accuracy: 0.9541\n",
      "Epoch 30/150\n",
      "40/40 [==============================] - 7s 177ms/step - loss: 0.1927 - accuracy: 0.9496 - val_loss: 0.1864 - val_accuracy: 0.9524\n",
      "Epoch 31/150\n",
      "40/40 [==============================] - 7s 176ms/step - loss: 0.1664 - accuracy: 0.9608 - val_loss: 0.1567 - val_accuracy: 0.9647\n",
      "Epoch 32/150\n",
      "40/40 [==============================] - 7s 176ms/step - loss: 0.1633 - accuracy: 0.9621 - val_loss: 0.1658 - val_accuracy: 0.9612\n",
      "Epoch 33/150\n",
      "40/40 [==============================] - 7s 178ms/step - loss: 0.1413 - accuracy: 0.9716 - val_loss: 0.1418 - val_accuracy: 0.9683\n",
      "Epoch 34/150\n",
      "40/40 [==============================] - 7s 178ms/step - loss: 0.1272 - accuracy: 0.9739 - val_loss: 0.1311 - val_accuracy: 0.9841\n",
      "Epoch 35/150\n",
      "40/40 [==============================] - 7s 175ms/step - loss: 0.1399 - accuracy: 0.9710 - val_loss: 0.1544 - val_accuracy: 0.9577\n",
      "Epoch 36/150\n",
      "40/40 [==============================] - 7s 176ms/step - loss: 0.1429 - accuracy: 0.9712 - val_loss: 0.1453 - val_accuracy: 0.9683\n",
      "Epoch 37/150\n",
      "40/40 [==============================] - 7s 177ms/step - loss: 0.1630 - accuracy: 0.9614 - val_loss: 0.2013 - val_accuracy: 0.9541\n",
      "Epoch 38/150\n",
      "40/40 [==============================] - 7s 178ms/step - loss: 0.1539 - accuracy: 0.9639 - val_loss: 0.1363 - val_accuracy: 0.9700\n",
      "Epoch 39/150\n",
      "40/40 [==============================] - 7s 177ms/step - loss: 0.1312 - accuracy: 0.9735 - val_loss: 0.1473 - val_accuracy: 0.9665\n",
      "Epoch 40/150\n",
      "40/40 [==============================] - 7s 176ms/step - loss: 0.1309 - accuracy: 0.9719 - val_loss: 0.1567 - val_accuracy: 0.9683\n",
      "Epoch 41/150\n",
      "40/40 [==============================] - 7s 177ms/step - loss: 0.1325 - accuracy: 0.9700 - val_loss: 0.1704 - val_accuracy: 0.9630\n",
      "Epoch 42/150\n",
      "40/40 [==============================] - 7s 178ms/step - loss: 0.1196 - accuracy: 0.9769 - val_loss: 0.1162 - val_accuracy: 0.9753\n",
      "Epoch 43/150\n",
      "40/40 [==============================] - 7s 177ms/step - loss: 0.1181 - accuracy: 0.9757 - val_loss: 0.1356 - val_accuracy: 0.9700\n",
      "Epoch 44/150\n",
      "40/40 [==============================] - 7s 176ms/step - loss: 0.1109 - accuracy: 0.9765 - val_loss: 0.1464 - val_accuracy: 0.9683\n",
      "Epoch 45/150\n",
      "40/40 [==============================] - 7s 176ms/step - loss: 0.1364 - accuracy: 0.9718 - val_loss: 0.1356 - val_accuracy: 0.9700\n",
      "Epoch 46/150\n",
      "40/40 [==============================] - 7s 177ms/step - loss: 0.1394 - accuracy: 0.9680 - val_loss: 0.1347 - val_accuracy: 0.9735\n",
      "Epoch 47/150\n",
      "40/40 [==============================] - 7s 177ms/step - loss: 0.1179 - accuracy: 0.9770 - val_loss: 0.1502 - val_accuracy: 0.9683\n",
      "Epoch 48/150\n",
      "40/40 [==============================] - 7s 177ms/step - loss: 0.1240 - accuracy: 0.9721 - val_loss: 0.1445 - val_accuracy: 0.9700\n",
      "Epoch 49/150\n",
      "40/40 [==============================] - 7s 177ms/step - loss: 0.1068 - accuracy: 0.9784 - val_loss: 0.1213 - val_accuracy: 0.9788\n",
      "Epoch 50/150\n",
      "40/40 [==============================] - 7s 177ms/step - loss: 0.0883 - accuracy: 0.9845 - val_loss: 0.1019 - val_accuracy: 0.9824\n",
      "Epoch 51/150\n",
      "40/40 [==============================] - 7s 177ms/step - loss: 0.0858 - accuracy: 0.9835 - val_loss: 0.1052 - val_accuracy: 0.9788\n",
      "Epoch 52/150\n",
      "40/40 [==============================] - 7s 176ms/step - loss: 0.0856 - accuracy: 0.9847 - val_loss: 0.1211 - val_accuracy: 0.9841\n",
      "Epoch 53/150\n",
      "40/40 [==============================] - 7s 176ms/step - loss: 0.0792 - accuracy: 0.9853 - val_loss: 0.1260 - val_accuracy: 0.9788\n",
      "Epoch 54/150\n",
      "40/40 [==============================] - 7s 177ms/step - loss: 0.1125 - accuracy: 0.9751 - val_loss: 0.1195 - val_accuracy: 0.9788\n",
      "Epoch 55/150\n",
      "40/40 [==============================] - 7s 178ms/step - loss: 0.1052 - accuracy: 0.9763 - val_loss: 0.0991 - val_accuracy: 0.9841\n",
      "Epoch 56/150\n",
      "40/40 [==============================] - 7s 176ms/step - loss: 0.0820 - accuracy: 0.9861 - val_loss: 0.1038 - val_accuracy: 0.9806\n",
      "Epoch 57/150\n",
      "40/40 [==============================] - 7s 177ms/step - loss: 0.0783 - accuracy: 0.9863 - val_loss: 0.0868 - val_accuracy: 0.9824\n",
      "Epoch 58/150\n",
      "40/40 [==============================] - 7s 176ms/step - loss: 0.1074 - accuracy: 0.9733 - val_loss: 0.1182 - val_accuracy: 0.9753\n",
      "Epoch 59/150\n",
      "40/40 [==============================] - 7s 177ms/step - loss: 0.0927 - accuracy: 0.9798 - val_loss: 0.1271 - val_accuracy: 0.9771\n",
      "Epoch 60/150\n",
      "40/40 [==============================] - 7s 178ms/step - loss: 0.1123 - accuracy: 0.9755 - val_loss: 0.1120 - val_accuracy: 0.9806\n",
      "Epoch 61/150\n",
      "40/40 [==============================] - 7s 176ms/step - loss: 0.0848 - accuracy: 0.9839 - val_loss: 0.1006 - val_accuracy: 0.9806\n",
      "Epoch 62/150\n",
      "40/40 [==============================] - 7s 176ms/step - loss: 0.0953 - accuracy: 0.9790 - val_loss: 0.1063 - val_accuracy: 0.9788\n",
      "Epoch 63/150\n",
      "40/40 [==============================] - 7s 176ms/step - loss: 0.0871 - accuracy: 0.9823 - val_loss: 0.0887 - val_accuracy: 0.9824\n",
      "Epoch 64/150\n",
      "40/40 [==============================] - 7s 178ms/step - loss: 0.0803 - accuracy: 0.9835 - val_loss: 0.0832 - val_accuracy: 0.9771\n",
      "Epoch 65/150\n",
      "40/40 [==============================] - 7s 176ms/step - loss: 0.0702 - accuracy: 0.9865 - val_loss: 0.1280 - val_accuracy: 0.9735\n",
      "Epoch 66/150\n",
      "40/40 [==============================] - 7s 177ms/step - loss: 0.0987 - accuracy: 0.9757 - val_loss: 0.1109 - val_accuracy: 0.9683\n",
      "Epoch 67/150\n",
      "40/40 [==============================] - 7s 178ms/step - loss: 0.0835 - accuracy: 0.9849 - val_loss: 0.1100 - val_accuracy: 0.9718\n",
      "Epoch 68/150\n",
      "40/40 [==============================] - 7s 177ms/step - loss: 0.0809 - accuracy: 0.9853 - val_loss: 0.0916 - val_accuracy: 0.9806\n",
      "Epoch 69/150\n",
      "40/40 [==============================] - 7s 176ms/step - loss: 0.1023 - accuracy: 0.9759 - val_loss: 0.0926 - val_accuracy: 0.9771\n",
      "Epoch 70/150\n",
      "40/40 [==============================] - 7s 176ms/step - loss: 0.0864 - accuracy: 0.9816 - val_loss: 0.0795 - val_accuracy: 0.9806\n",
      "Epoch 71/150\n",
      "40/40 [==============================] - 7s 177ms/step - loss: 0.0602 - accuracy: 0.9886 - val_loss: 0.0735 - val_accuracy: 0.9824\n",
      "Epoch 72/150\n",
      "40/40 [==============================] - 7s 178ms/step - loss: 0.0610 - accuracy: 0.9874 - val_loss: 0.0712 - val_accuracy: 0.9859\n",
      "Epoch 73/150\n",
      "40/40 [==============================] - 7s 180ms/step - loss: 0.0531 - accuracy: 0.9896 - val_loss: 0.0672 - val_accuracy: 0.9877\n",
      "Epoch 74/150\n",
      "40/40 [==============================] - 7s 176ms/step - loss: 0.0543 - accuracy: 0.9900 - val_loss: 0.0735 - val_accuracy: 0.9841\n",
      "Epoch 75/150\n",
      "40/40 [==============================] - 7s 177ms/step - loss: 0.0509 - accuracy: 0.9910 - val_loss: 0.0704 - val_accuracy: 0.9877\n",
      "Epoch 76/150\n",
      "40/40 [==============================] - 7s 177ms/step - loss: 0.0572 - accuracy: 0.9886 - val_loss: 0.0836 - val_accuracy: 0.9841\n",
      "Epoch 77/150\n",
      "40/40 [==============================] - 7s 178ms/step - loss: 0.0512 - accuracy: 0.9906 - val_loss: 0.0686 - val_accuracy: 0.9877\n",
      "Epoch 78/150\n",
      "40/40 [==============================] - 7s 177ms/step - loss: 0.0522 - accuracy: 0.9906 - val_loss: 0.0893 - val_accuracy: 0.9788\n",
      "Epoch 79/150\n",
      "40/40 [==============================] - 7s 176ms/step - loss: 0.0664 - accuracy: 0.9878 - val_loss: 0.1158 - val_accuracy: 0.9718\n",
      "Epoch 80/150\n",
      "40/40 [==============================] - 7s 177ms/step - loss: 0.0754 - accuracy: 0.9839 - val_loss: 0.0913 - val_accuracy: 0.9806\n",
      "Epoch 81/150\n",
      "40/40 [==============================] - 7s 176ms/step - loss: 0.0881 - accuracy: 0.9814 - val_loss: 0.0880 - val_accuracy: 0.9824\n",
      "Epoch 82/150\n",
      "40/40 [==============================] - 7s 177ms/step - loss: 0.0670 - accuracy: 0.9872 - val_loss: 0.1174 - val_accuracy: 0.9718\n",
      "Epoch 83/150\n",
      "40/40 [==============================] - 7s 177ms/step - loss: 0.0556 - accuracy: 0.9912 - val_loss: 0.0691 - val_accuracy: 0.9877\n"
     ]
    }
   ],
   "source": [
    "model = cfg.build_model(n_unit_lstm=200, n_unit_atten=400)\n",
    "model.compile(\n",
    "    optimizer=tf.keras.optimizers.Adam(learning_rate=1e-4),\n",
    "    loss='categorical_crossentropy', \n",
    "    metrics=['accuracy'])\n",
    "\n",
    "model.summary()\n",
    "\n",
    "history = model.fit(\n",
    "    x_train,\n",
    "    y_train,\n",
    "    batch_size=128, epochs=150,\n",
    "    validation_data=(x_valid, y_valid),\n",
    "     callbacks=[\n",
    "        tf.keras.callbacks.ModelCheckpoint('best_attention.hdf5',\n",
    "                                            monitor='val_accuracy',\n",
    "                                            save_best_only=True,\n",
    "                                            save_weights_only=False),\n",
    "         tf.keras.callbacks.EarlyStopping(monitor='val_loss', patience=10)\n",
    "        ])\n",
    "\n",
    "with open('history_bilstm.pkl', 'wb') as f:\n",
    "    pickle.dump(history.history, f)"
   ]
  },
  {
   "cell_type": "code",
   "execution_count": 30,
   "metadata": {
    "execution": {
     "iopub.execute_input": "2023-05-09T10:33:59.467836Z",
     "iopub.status.busy": "2023-05-09T10:33:59.467389Z",
     "iopub.status.idle": "2023-05-09T10:34:03.837994Z",
     "shell.execute_reply": "2023-05-09T10:34:03.836890Z",
     "shell.execute_reply.started": "2023-05-09T10:33:59.467799Z"
    }
   },
   "outputs": [
    {
     "name": "stdout",
     "output_type": "stream",
     "text": [
      "45/45 [==============================] - 2s 37ms/step\n"
     ]
    }
   ],
   "source": [
    "# load the best model\n",
    "model = cfg.load_model('/kaggle/input/trained-models/best_attention.hdf5')\n",
    "\n",
    "#load the history\n",
    "with open('/kaggle/input/trained-models/history_bilstm.pkl', 'rb') as f:\n",
    "    history = pickle.load(f)\n",
    "\n",
    "# evaluate on test set\n",
    "y_pred = model.predict(x_test)"
   ]
  },
  {
   "cell_type": "code",
   "execution_count": 31,
   "metadata": {
    "execution": {
     "iopub.execute_input": "2023-05-09T10:34:15.917113Z",
     "iopub.status.busy": "2023-05-09T10:34:15.915847Z",
     "iopub.status.idle": "2023-05-09T10:34:15.928024Z",
     "shell.execute_reply": "2023-05-09T10:34:15.927030Z",
     "shell.execute_reply.started": "2023-05-09T10:34:15.917067Z"
    }
   },
   "outputs": [
    {
     "name": "stdout",
     "output_type": "stream",
     "text": [
      "[[188   0   2   0   4   0   6]\n",
      " [  0 141   0   0   0   0   0]\n",
      " [  0   0 149   0   0   0   2]\n",
      " [  0   0   0 306   0   0   1]\n",
      " [  2   0   0   0 114   2   1]\n",
      " [  0   0   1   0   3  81   5]\n",
      " [  0   0   0   0   0   0 409]]\n"
     ]
    }
   ],
   "source": [
    "print(confusion_matrix(np.argmax(y_test, axis=1), np.argmax(y_pred, axis=1)))"
   ]
  },
  {
   "cell_type": "code",
   "execution_count": 32,
   "metadata": {
    "execution": {
     "iopub.execute_input": "2023-05-09T10:34:16.196329Z",
     "iopub.status.busy": "2023-05-09T10:34:16.195916Z",
     "iopub.status.idle": "2023-05-09T10:34:16.219912Z",
     "shell.execute_reply": "2023-05-09T10:34:16.218976Z",
     "shell.execute_reply.started": "2023-05-09T10:34:16.196292Z"
    }
   },
   "outputs": [
    {
     "name": "stdout",
     "output_type": "stream",
     "text": [
      "              precision    recall  f1-score   support\n",
      "\n",
      "           0       0.99      0.94      0.96       200\n",
      "           1       1.00      1.00      1.00       141\n",
      "           2       0.98      0.99      0.98       151\n",
      "           3       1.00      1.00      1.00       307\n",
      "           4       0.94      0.96      0.95       119\n",
      "           5       0.98      0.90      0.94        90\n",
      "           6       0.96      1.00      0.98       409\n",
      "\n",
      "    accuracy                           0.98      1417\n",
      "   macro avg       0.98      0.97      0.97      1417\n",
      "weighted avg       0.98      0.98      0.98      1417\n",
      "\n"
     ]
    }
   ],
   "source": [
    "print(classification_report(np.argmax(y_test, axis=1), np.argmax(y_pred, axis=1)))"
   ]
  },
  {
   "cell_type": "markdown",
   "metadata": {},
   "source": [
    "**Original Bi-LSTM**\n",
    "\n",
    "Total Params = 629207\n",
    "\n",
    "Average Inference Time (for each step) = 37ms\n",
    "\n",
    "Accuracy = 98%\n",
    "\n",
    "Model Size(on system) = 7.25 MB"
   ]
  },
  {
   "cell_type": "code",
   "execution_count": 33,
   "metadata": {
    "execution": {
     "iopub.execute_input": "2023-05-09T10:38:09.527562Z",
     "iopub.status.busy": "2023-05-09T10:38:09.526811Z",
     "iopub.status.idle": "2023-05-09T10:38:09.749099Z",
     "shell.execute_reply": "2023-05-09T10:38:09.748136Z",
     "shell.execute_reply.started": "2023-05-09T10:38:09.527521Z"
    }
   },
   "outputs": [
    {
     "data": {
      "image/png": "[encoded data removed]",
      "text/plain": [
       "<Figure size 640x480 with 1 Axes>"
      ]
     },
     "metadata": {},
     "output_type": "display_data"
    }
   ],
   "source": [
    "# plot training and validation loss\n",
    "plt.plot(history['loss'], label='Training Loss')\n",
    "plt.plot(history['val_loss'], label='Validation Loss')\n",
    "\n",
    "plt.title('Loss vs Epoch')\n",
    "plt.xlabel('Epoch')\n",
    "plt.ylabel('Loss')\n",
    "plt.legend()\n",
    "plt.show()"
   ]
  },
  {
   "cell_type": "code",
   "execution_count": 36,
   "metadata": {
    "execution": {
     "iopub.execute_input": "2023-05-09T10:39:00.024453Z",
     "iopub.status.busy": "2023-05-09T10:39:00.023513Z",
     "iopub.status.idle": "2023-05-09T10:39:00.254820Z",
     "shell.execute_reply": "2023-05-09T10:39:00.253647Z",
     "shell.execute_reply.started": "2023-05-09T10:39:00.024401Z"
    }
   },
   "outputs": [
    {
     "data": {
      "image/png": "[encoded data removed]",
      "text/plain": [
       "<Figure size 640x480 with 1 Axes>"
      ]
     },
     "metadata": {},
     "output_type": "display_data"
    }
   ],
   "source": [
    "plt.plot(history['accuracy'], label='Training Accuracy')\n",
    "plt.plot(history['val_accuracy'], label='Validation Accuracy')\n",
    "\n",
    "plt.title('Accuracy vs Epoch')\n",
    "plt.xlabel('Epoch')\n",
    "plt.ylabel('Accuracy')\n",
    "plt.legend()\n",
    "plt.show()"
   ]
  },
  {
   "cell_type": "markdown",
   "metadata": {},
   "source": [
    "# Modified Model with Bi-GRU"
   ]
  },
  {
   "cell_type": "code",
   "execution_count": 45,
   "metadata": {
    "execution": {
     "iopub.execute_input": "2023-05-09T10:43:16.477721Z",
     "iopub.status.busy": "2023-05-09T10:43:16.477250Z",
     "iopub.status.idle": "2023-05-09T10:43:16.492072Z",
     "shell.execute_reply": "2023-05-09T10:43:16.490753Z",
     "shell.execute_reply.started": "2023-05-09T10:43:16.477684Z"
    }
   },
   "outputs": [],
   "source": [
    "class CSIModelConfig_BiGRU:\n",
    "    def __init__(self, win_len=1000, step=200, thrshd=0.6, downsample=2):\n",
    "        self._win_len = win_len\n",
    "        self._step = step\n",
    "        self._thrshd = thrshd\n",
    "        self._labels = (\"bed\", \"fall\", \"pickup\", \"run\", \"sitdown\", \"standup\", \"walk\")\n",
    "        self._downsample = downsample\n",
    "\n",
    "    def preprocessing(self, raw_folder, save=False):\n",
    "        numpy_tuple = extract_csi(raw_folder, self._labels, save, self._win_len, self._thrshd, self._step)\n",
    "        if self._downsample > 1:\n",
    "            return tuple([v[:, ::self._downsample,...] if i%2 ==0 else v for i, v in enumerate(numpy_tuple)])\n",
    "        return numpy_tuple\n",
    "    \n",
    "    def load_csi_data_from_files(self, np_files):\n",
    "        if len(np_files) != 7:\n",
    "            raise ValueError('There should be 7 numpy files for bed, fall, pickup, run, sitdown, standup, walk.')\n",
    "        x = [np.load(f)['arr_0'] for f in np_files]\n",
    "        if self._downsample > 1:\n",
    "            x = [arr[:,::self._downsample, :] for arr in x]\n",
    "        y = [np.zeros((arr.shape[0], len(self._labels))) for arr in x]\n",
    "        numpy_list = []\n",
    "        for i in range(len(self._labels)):\n",
    "            y[i][:,i] = 1\n",
    "            numpy_list.append(x[i])\n",
    "            numpy_list.append(y[i])\n",
    "        return tuple(numpy_list)\n",
    "\n",
    "\n",
    "    \n",
    "    def build_model(self, n_unit_gru=200, n_unit_atten=400):\n",
    "        if self._downsample > 1:\n",
    "            length = len(np.ones((self._win_len,))[::self._downsample])\n",
    "            x_in = tf.keras.Input(shape=(length, 90))\n",
    "        else:\n",
    "            x_in = tf.keras.Input(shape=(self._win_len, 90))\n",
    "        x_tensor = tf.keras.layers.Bidirectional(tf.keras.layers.GRU(units=n_unit_gru, return_sequences=True))(x_in)\n",
    "        x_tensor = AttenLayer(n_unit_atten)(x_tensor)\n",
    "        pred = tf.keras.layers.Dense(len(self._labels), activation='softmax')(x_tensor)\n",
    "        model = tf.keras.Model(inputs=x_in, outputs=pred)\n",
    "        return model\n",
    "    \n",
    "    \n",
    "    @staticmethod\n",
    "    def load_model(hdf5path):\n",
    "        \"\"\"\n",
    "        Returns the Tensorflow Model for AttenLayer\n",
    "        Args:\n",
    "            hdf5path: str, the model file path\n",
    "        \"\"\"\n",
    "        model = tf.keras.models.load_model(hdf5path, custom_objects={'AttenLayer':AttenLayer})\n",
    "        return model"
   ]
  },
  {
   "cell_type": "code",
   "execution_count": 46,
   "metadata": {
    "execution": {
     "iopub.execute_input": "2023-05-09T10:43:16.714294Z",
     "iopub.status.busy": "2023-05-09T10:43:16.713615Z",
     "iopub.status.idle": "2023-05-09T10:43:16.719972Z",
     "shell.execute_reply": "2023-05-09T10:43:16.718959Z",
     "shell.execute_reply.started": "2023-05-09T10:43:16.714259Z"
    }
   },
   "outputs": [],
   "source": [
    "cfg_GRU = CSIModelConfig_BiGRU(win_len=1000, step=200, thrshd=0.6, downsample=2)"
   ]
  },
  {
   "cell_type": "code",
   "execution_count": 47,
   "metadata": {
    "execution": {
     "iopub.execute_input": "2023-05-09T10:43:16.995503Z",
     "iopub.status.busy": "2023-05-09T10:43:16.994731Z",
     "iopub.status.idle": "2023-05-09T10:53:34.844902Z",
     "shell.execute_reply": "2023-05-09T10:53:34.843650Z",
     "shell.execute_reply.started": "2023-05-09T10:43:16.995456Z"
    }
   },
   "outputs": [
    {
     "name": "stdout",
     "output_type": "stream",
     "text": [
      "Model: \"model_3\"\n",
      "_________________________________________________________________\n",
      " Layer (type)                Output Shape              Param #   \n",
      "=================================================================\n",
      " input_4 (InputLayer)        [(None, 500, 90)]         0         \n",
      "                                                                 \n",
      " bidirectional_3 (Bidirectio  (None, 500, 400)         350400    \n",
      " nal)                                                            \n",
      "                                                                 \n",
      " atten_layer_3 (AttenLayer)  (None, 400)               160800    \n",
      "                                                                 \n",
      " dense_3 (Dense)             (None, 7)                 2807      \n",
      "                                                                 \n",
      "=================================================================\n",
      "Total params: 514,007\n",
      "Trainable params: 514,007\n",
      "Non-trainable params: 0\n",
      "_________________________________________________________________\n",
      "Epoch 1/150\n",
      "40/40 [==============================] - 12s 187ms/step - loss: 1.5066 - accuracy: 0.4776 - val_loss: 1.2123 - val_accuracy: 0.5767\n",
      "Epoch 2/150\n",
      "40/40 [==============================] - 7s 163ms/step - loss: 1.1048 - accuracy: 0.6418 - val_loss: 1.0153 - val_accuracy: 0.6878\n",
      "Epoch 3/150\n",
      "40/40 [==============================] - 6s 162ms/step - loss: 0.9540 - accuracy: 0.7079 - val_loss: 0.9062 - val_accuracy: 0.7249\n",
      "Epoch 4/150\n",
      "40/40 [==============================] - 6s 161ms/step - loss: 0.8594 - accuracy: 0.7417 - val_loss: 0.8248 - val_accuracy: 0.7637\n",
      "Epoch 5/150\n",
      "40/40 [==============================] - 7s 163ms/step - loss: 0.7894 - accuracy: 0.7587 - val_loss: 0.7685 - val_accuracy: 0.7848\n",
      "Epoch 6/150\n",
      "40/40 [==============================] - 7s 164ms/step - loss: 0.7303 - accuracy: 0.7752 - val_loss: 0.7107 - val_accuracy: 0.7884\n",
      "Epoch 7/150\n",
      "40/40 [==============================] - 6s 161ms/step - loss: 0.6803 - accuracy: 0.7966 - val_loss: 0.6577 - val_accuracy: 0.8007\n",
      "Epoch 8/150\n",
      "40/40 [==============================] - 6s 163ms/step - loss: 0.6419 - accuracy: 0.8005 - val_loss: 0.6146 - val_accuracy: 0.8131\n",
      "Epoch 9/150\n",
      "40/40 [==============================] - 7s 164ms/step - loss: 0.5941 - accuracy: 0.8211 - val_loss: 0.5767 - val_accuracy: 0.8272\n",
      "Epoch 10/150\n",
      "40/40 [==============================] - 7s 164ms/step - loss: 0.5603 - accuracy: 0.8299 - val_loss: 0.5548 - val_accuracy: 0.8342\n",
      "Epoch 11/150\n",
      "40/40 [==============================] - 7s 164ms/step - loss: 0.5326 - accuracy: 0.8437 - val_loss: 0.5024 - val_accuracy: 0.8589\n",
      "Epoch 12/150\n",
      "40/40 [==============================] - 7s 164ms/step - loss: 0.4970 - accuracy: 0.8527 - val_loss: 0.4803 - val_accuracy: 0.8624\n",
      "Epoch 13/150\n",
      "40/40 [==============================] - 6s 162ms/step - loss: 0.4643 - accuracy: 0.8676 - val_loss: 0.4477 - val_accuracy: 0.8818\n",
      "Epoch 14/150\n",
      "40/40 [==============================] - 6s 161ms/step - loss: 0.4347 - accuracy: 0.8760 - val_loss: 0.4125 - val_accuracy: 0.8818\n",
      "Epoch 15/150\n",
      "40/40 [==============================] - 6s 162ms/step - loss: 0.4177 - accuracy: 0.8796 - val_loss: 0.3917 - val_accuracy: 0.8924\n",
      "Epoch 16/150\n",
      "40/40 [==============================] - 7s 165ms/step - loss: 0.3873 - accuracy: 0.8907 - val_loss: 0.3722 - val_accuracy: 0.9048\n",
      "Epoch 17/150\n",
      "40/40 [==============================] - 6s 161ms/step - loss: 0.3654 - accuracy: 0.8978 - val_loss: 0.3455 - val_accuracy: 0.9030\n",
      "Epoch 18/150\n",
      "40/40 [==============================] - 6s 162ms/step - loss: 0.3409 - accuracy: 0.9080 - val_loss: 0.3148 - val_accuracy: 0.9295\n",
      "Epoch 19/150\n",
      "40/40 [==============================] - 6s 162ms/step - loss: 0.3173 - accuracy: 0.9188 - val_loss: 0.2919 - val_accuracy: 0.9330\n",
      "Epoch 20/150\n",
      "40/40 [==============================] - 6s 161ms/step - loss: 0.3028 - accuracy: 0.9204 - val_loss: 0.2725 - val_accuracy: 0.9489\n",
      "Epoch 21/150\n",
      "40/40 [==============================] - 6s 162ms/step - loss: 0.2860 - accuracy: 0.9245 - val_loss: 0.2798 - val_accuracy: 0.9312\n",
      "Epoch 22/150\n",
      "40/40 [==============================] - 6s 161ms/step - loss: 0.2680 - accuracy: 0.9282 - val_loss: 0.2578 - val_accuracy: 0.9436\n",
      "Epoch 23/150\n",
      "40/40 [==============================] - 7s 165ms/step - loss: 0.2472 - accuracy: 0.9376 - val_loss: 0.2229 - val_accuracy: 0.9577\n",
      "Epoch 24/150\n",
      "40/40 [==============================] - 6s 162ms/step - loss: 0.2308 - accuracy: 0.9417 - val_loss: 0.2232 - val_accuracy: 0.9453\n",
      "Epoch 25/150\n",
      "40/40 [==============================] - 6s 162ms/step - loss: 0.2166 - accuracy: 0.9461 - val_loss: 0.1992 - val_accuracy: 0.9541\n",
      "Epoch 26/150\n",
      "40/40 [==============================] - 7s 164ms/step - loss: 0.2052 - accuracy: 0.9484 - val_loss: 0.1895 - val_accuracy: 0.9630\n",
      "Epoch 27/150\n",
      "40/40 [==============================] - 7s 163ms/step - loss: 0.1933 - accuracy: 0.9508 - val_loss: 0.1888 - val_accuracy: 0.9612\n",
      "Epoch 28/150\n",
      "40/40 [==============================] - 6s 162ms/step - loss: 0.1727 - accuracy: 0.9572 - val_loss: 0.1581 - val_accuracy: 0.9647\n",
      "Epoch 29/150\n",
      "40/40 [==============================] - 6s 161ms/step - loss: 0.1686 - accuracy: 0.9586 - val_loss: 0.1698 - val_accuracy: 0.9647\n",
      "Epoch 30/150\n",
      "40/40 [==============================] - 7s 164ms/step - loss: 0.1656 - accuracy: 0.9572 - val_loss: 0.1326 - val_accuracy: 0.9771\n",
      "Epoch 31/150\n",
      "40/40 [==============================] - 7s 164ms/step - loss: 0.1417 - accuracy: 0.9676 - val_loss: 0.1344 - val_accuracy: 0.9753\n",
      "Epoch 32/150\n",
      "40/40 [==============================] - 7s 163ms/step - loss: 0.1337 - accuracy: 0.9719 - val_loss: 0.1212 - val_accuracy: 0.9788\n",
      "Epoch 33/150\n",
      "40/40 [==============================] - 6s 162ms/step - loss: 0.1248 - accuracy: 0.9739 - val_loss: 0.1198 - val_accuracy: 0.9753\n",
      "Epoch 34/150\n",
      "40/40 [==============================] - 7s 163ms/step - loss: 0.1302 - accuracy: 0.9702 - val_loss: 0.1165 - val_accuracy: 0.9806\n",
      "Epoch 35/150\n",
      "40/40 [==============================] - 7s 167ms/step - loss: 0.1173 - accuracy: 0.9755 - val_loss: 0.1138 - val_accuracy: 0.9859\n",
      "Epoch 36/150\n",
      "40/40 [==============================] - 6s 162ms/step - loss: 0.1138 - accuracy: 0.9761 - val_loss: 0.1024 - val_accuracy: 0.9841\n",
      "Epoch 37/150\n",
      "40/40 [==============================] - 6s 161ms/step - loss: 0.0998 - accuracy: 0.9804 - val_loss: 0.1054 - val_accuracy: 0.9806\n",
      "Epoch 38/150\n",
      "40/40 [==============================] - 6s 162ms/step - loss: 0.0933 - accuracy: 0.9827 - val_loss: 0.0902 - val_accuracy: 0.9841\n",
      "Epoch 39/150\n",
      "40/40 [==============================] - 6s 162ms/step - loss: 0.0873 - accuracy: 0.9829 - val_loss: 0.0933 - val_accuracy: 0.9824\n",
      "Epoch 40/150\n",
      "40/40 [==============================] - 6s 162ms/step - loss: 0.0929 - accuracy: 0.9802 - val_loss: 0.0837 - val_accuracy: 0.9894\n",
      "Epoch 41/150\n",
      "40/40 [==============================] - 7s 163ms/step - loss: 0.0808 - accuracy: 0.9841 - val_loss: 0.0734 - val_accuracy: 0.9894\n",
      "Epoch 42/150\n",
      "40/40 [==============================] - 6s 162ms/step - loss: 0.0743 - accuracy: 0.9874 - val_loss: 0.0834 - val_accuracy: 0.9877\n",
      "Epoch 43/150\n",
      "40/40 [==============================] - 6s 162ms/step - loss: 0.0798 - accuracy: 0.9845 - val_loss: 0.0966 - val_accuracy: 0.9859\n",
      "Epoch 44/150\n",
      "40/40 [==============================] - 6s 162ms/step - loss: 0.0813 - accuracy: 0.9849 - val_loss: 0.0915 - val_accuracy: 0.9806\n",
      "Epoch 45/150\n",
      "40/40 [==============================] - 7s 165ms/step - loss: 0.0636 - accuracy: 0.9898 - val_loss: 0.0581 - val_accuracy: 0.9929\n",
      "Epoch 46/150\n",
      "40/40 [==============================] - 7s 164ms/step - loss: 0.0566 - accuracy: 0.9923 - val_loss: 0.0635 - val_accuracy: 0.9894\n",
      "Epoch 47/150\n",
      "40/40 [==============================] - 6s 162ms/step - loss: 0.0583 - accuracy: 0.9914 - val_loss: 0.0570 - val_accuracy: 0.9947\n",
      "Epoch 48/150\n",
      "40/40 [==============================] - 6s 163ms/step - loss: 0.0589 - accuracy: 0.9914 - val_loss: 0.0826 - val_accuracy: 0.9824\n",
      "Epoch 49/150\n",
      "40/40 [==============================] - 6s 162ms/step - loss: 0.1027 - accuracy: 0.9735 - val_loss: 0.0984 - val_accuracy: 0.9735\n",
      "Epoch 50/150\n",
      "40/40 [==============================] - 6s 162ms/step - loss: 0.0556 - accuracy: 0.9918 - val_loss: 0.0592 - val_accuracy: 0.9894\n",
      "Epoch 51/150\n",
      "40/40 [==============================] - 6s 161ms/step - loss: 0.0462 - accuracy: 0.9937 - val_loss: 0.0555 - val_accuracy: 0.9894\n",
      "Epoch 52/150\n",
      "40/40 [==============================] - 7s 163ms/step - loss: 0.0472 - accuracy: 0.9923 - val_loss: 0.0588 - val_accuracy: 0.9877\n",
      "Epoch 53/150\n",
      "40/40 [==============================] - 6s 162ms/step - loss: 0.0447 - accuracy: 0.9943 - val_loss: 0.0472 - val_accuracy: 0.9912\n",
      "Epoch 54/150\n",
      "40/40 [==============================] - 6s 162ms/step - loss: 0.0384 - accuracy: 0.9953 - val_loss: 0.0460 - val_accuracy: 0.9912\n",
      "Epoch 55/150\n",
      "40/40 [==============================] - 7s 164ms/step - loss: 0.0368 - accuracy: 0.9959 - val_loss: 0.0536 - val_accuracy: 0.9912\n",
      "Epoch 56/150\n",
      "40/40 [==============================] - 7s 163ms/step - loss: 0.0639 - accuracy: 0.9867 - val_loss: 0.1101 - val_accuracy: 0.9753\n",
      "Epoch 57/150\n",
      "40/40 [==============================] - 6s 162ms/step - loss: 0.0484 - accuracy: 0.9923 - val_loss: 0.0469 - val_accuracy: 0.9912\n",
      "Epoch 58/150\n",
      "40/40 [==============================] - 6s 161ms/step - loss: 0.0361 - accuracy: 0.9951 - val_loss: 0.0522 - val_accuracy: 0.9894\n",
      "Epoch 59/150\n",
      "40/40 [==============================] - 6s 161ms/step - loss: 0.0340 - accuracy: 0.9965 - val_loss: 0.0507 - val_accuracy: 0.9894\n",
      "Epoch 60/150\n",
      "40/40 [==============================] - 6s 162ms/step - loss: 0.0445 - accuracy: 0.9927 - val_loss: 0.0478 - val_accuracy: 0.9894\n",
      "Epoch 61/150\n",
      "40/40 [==============================] - 7s 163ms/step - loss: 0.0327 - accuracy: 0.9967 - val_loss: 0.0472 - val_accuracy: 0.9912\n",
      "Epoch 62/150\n",
      "40/40 [==============================] - 6s 161ms/step - loss: 0.0379 - accuracy: 0.9935 - val_loss: 0.0408 - val_accuracy: 0.9929\n",
      "Epoch 63/150\n",
      "40/40 [==============================] - 6s 161ms/step - loss: 0.0529 - accuracy: 0.9890 - val_loss: 0.0536 - val_accuracy: 0.9894\n",
      "Epoch 64/150\n",
      "40/40 [==============================] - 7s 163ms/step - loss: 0.0390 - accuracy: 0.9935 - val_loss: 0.0406 - val_accuracy: 0.9929\n",
      "Epoch 65/150\n",
      "40/40 [==============================] - 6s 161ms/step - loss: 0.0297 - accuracy: 0.9965 - val_loss: 0.0316 - val_accuracy: 0.9929\n",
      "Epoch 66/150\n",
      "40/40 [==============================] - 6s 161ms/step - loss: 0.0250 - accuracy: 0.9978 - val_loss: 0.0320 - val_accuracy: 0.9947\n",
      "Epoch 67/150\n",
      "40/40 [==============================] - 6s 161ms/step - loss: 0.0225 - accuracy: 0.9986 - val_loss: 0.0323 - val_accuracy: 0.9947\n",
      "Epoch 68/150\n",
      "40/40 [==============================] - 6s 162ms/step - loss: 0.0209 - accuracy: 0.9992 - val_loss: 0.0285 - val_accuracy: 0.9947\n",
      "Epoch 69/150\n",
      "40/40 [==============================] - 7s 164ms/step - loss: 0.0205 - accuracy: 0.9986 - val_loss: 0.0271 - val_accuracy: 0.9947\n",
      "Epoch 70/150\n",
      "40/40 [==============================] - 6s 161ms/step - loss: 0.0351 - accuracy: 0.9935 - val_loss: 0.2108 - val_accuracy: 0.9365\n",
      "Epoch 71/150\n",
      "40/40 [==============================] - 6s 161ms/step - loss: 0.0646 - accuracy: 0.9863 - val_loss: 0.0427 - val_accuracy: 0.9912\n",
      "Epoch 72/150\n",
      "40/40 [==============================] - 6s 161ms/step - loss: 0.0247 - accuracy: 0.9982 - val_loss: 0.0326 - val_accuracy: 0.9947\n",
      "Epoch 73/150\n",
      "40/40 [==============================] - 7s 164ms/step - loss: 0.0206 - accuracy: 0.9982 - val_loss: 0.0272 - val_accuracy: 0.9947\n",
      "Epoch 74/150\n",
      "40/40 [==============================] - 7s 163ms/step - loss: 0.0213 - accuracy: 0.9973 - val_loss: 0.0252 - val_accuracy: 0.9965\n",
      "Epoch 75/150\n",
      "40/40 [==============================] - 6s 162ms/step - loss: 0.0171 - accuracy: 0.9994 - val_loss: 0.0258 - val_accuracy: 0.9947\n",
      "Epoch 76/150\n",
      "40/40 [==============================] - 6s 161ms/step - loss: 0.0160 - accuracy: 0.9992 - val_loss: 0.0275 - val_accuracy: 0.9947\n",
      "Epoch 77/150\n",
      "40/40 [==============================] - 6s 162ms/step - loss: 0.0166 - accuracy: 0.9992 - val_loss: 0.0239 - val_accuracy: 0.9929\n",
      "Epoch 78/150\n",
      "40/40 [==============================] - 6s 163ms/step - loss: 0.0147 - accuracy: 0.9994 - val_loss: 0.0242 - val_accuracy: 0.9929\n",
      "Epoch 79/150\n",
      "40/40 [==============================] - 6s 162ms/step - loss: 0.0135 - accuracy: 0.9994 - val_loss: 0.0242 - val_accuracy: 0.9947\n",
      "Epoch 80/150\n",
      "40/40 [==============================] - 6s 161ms/step - loss: 0.0146 - accuracy: 0.9988 - val_loss: 0.0288 - val_accuracy: 0.9929\n",
      "Epoch 81/150\n",
      "40/40 [==============================] - 6s 161ms/step - loss: 0.0153 - accuracy: 0.9988 - val_loss: 0.0234 - val_accuracy: 0.9947\n",
      "Epoch 82/150\n",
      "40/40 [==============================] - 6s 161ms/step - loss: 0.0121 - accuracy: 0.9996 - val_loss: 0.0218 - val_accuracy: 0.9947\n",
      "Epoch 83/150\n",
      "40/40 [==============================] - 6s 161ms/step - loss: 0.0114 - accuracy: 0.9996 - val_loss: 0.0223 - val_accuracy: 0.9947\n",
      "Epoch 84/150\n",
      "40/40 [==============================] - 6s 162ms/step - loss: 0.0122 - accuracy: 0.9998 - val_loss: 0.0204 - val_accuracy: 0.9947\n",
      "Epoch 85/150\n",
      "40/40 [==============================] - 7s 163ms/step - loss: 0.0631 - accuracy: 0.9851 - val_loss: 0.1888 - val_accuracy: 0.9453\n",
      "Epoch 86/150\n",
      "40/40 [==============================] - 7s 163ms/step - loss: 0.0920 - accuracy: 0.9769 - val_loss: 0.0531 - val_accuracy: 0.9912\n",
      "Epoch 87/150\n",
      "40/40 [==============================] - 6s 162ms/step - loss: 0.0499 - accuracy: 0.9884 - val_loss: 0.0578 - val_accuracy: 0.9841\n",
      "Epoch 88/150\n",
      "40/40 [==============================] - 6s 160ms/step - loss: 0.0492 - accuracy: 0.9884 - val_loss: 0.0394 - val_accuracy: 0.9929\n",
      "Epoch 89/150\n",
      "40/40 [==============================] - 6s 162ms/step - loss: 0.0249 - accuracy: 0.9959 - val_loss: 0.0371 - val_accuracy: 0.9912\n",
      "Epoch 90/150\n",
      "40/40 [==============================] - 6s 163ms/step - loss: 0.0264 - accuracy: 0.9957 - val_loss: 0.0369 - val_accuracy: 0.9894\n",
      "Epoch 91/150\n",
      "40/40 [==============================] - 6s 160ms/step - loss: 0.0216 - accuracy: 0.9974 - val_loss: 0.0330 - val_accuracy: 0.9912\n",
      "Epoch 92/150\n",
      "40/40 [==============================] - 7s 163ms/step - loss: 0.0138 - accuracy: 0.9994 - val_loss: 0.0257 - val_accuracy: 0.9929\n",
      "Epoch 93/150\n",
      "40/40 [==============================] - 7s 164ms/step - loss: 0.0121 - accuracy: 0.9992 - val_loss: 0.0254 - val_accuracy: 0.9929\n",
      "Epoch 94/150\n",
      "40/40 [==============================] - 6s 161ms/step - loss: 0.0102 - accuracy: 0.9994 - val_loss: 0.0250 - val_accuracy: 0.9929\n"
     ]
    }
   ],
   "source": [
    "model = cfg_GRU.build_model(n_unit_gru=200, n_unit_atten=400)\n",
    "model.compile(\n",
    "    optimizer=tf.keras.optimizers.Adam(learning_rate=1e-4),\n",
    "    loss='categorical_crossentropy', \n",
    "    metrics=['accuracy'])\n",
    "\n",
    "model.summary()\n",
    "\n",
    "history = model.fit(\n",
    "    x_train,\n",
    "    y_train,\n",
    "    batch_size=128, epochs=150,\n",
    "    validation_data=(x_valid, y_valid),\n",
    "     callbacks=[\n",
    "        tf.keras.callbacks.ModelCheckpoint('best_attention_gru.hdf5',\n",
    "                                            monitor='val_accuracy',\n",
    "                                            save_best_only=True,\n",
    "                                            save_weights_only=False),\n",
    "         tf.keras.callbacks.EarlyStopping(monitor='val_loss', patience=10)\n",
    "        ])\n",
    "\n",
    "with open('history_bigru.pkl', 'wb') as f:\n",
    "    pickle.dump(history.history, f)"
   ]
  },
  {
   "cell_type": "code",
   "execution_count": 53,
   "metadata": {
    "execution": {
     "iopub.execute_input": "2023-05-09T10:53:55.079041Z",
     "iopub.status.busy": "2023-05-09T10:53:55.078201Z",
     "iopub.status.idle": "2023-05-09T10:54:00.477147Z",
     "shell.execute_reply": "2023-05-09T10:54:00.476035Z",
     "shell.execute_reply.started": "2023-05-09T10:53:55.078997Z"
    }
   },
   "outputs": [
    {
     "name": "stdout",
     "output_type": "stream",
     "text": [
      "45/45 [==============================] - 2s 33ms/step\n"
     ]
    }
   ],
   "source": [
    "# load the best model\n",
    "model = cfg.load_model('/kaggle/input/trained-models/best_attention_gru.hdf5')\n",
    "\n",
    "#load the history\n",
    "with open('/kaggle/input/trained-models/history_bigru.pkl', 'rb') as f:\n",
    "    history = pickle.load(f)\n",
    "\n",
    "# evaluate on test set\n",
    "y_pred = model.predict(x_test)"
   ]
  },
  {
   "cell_type": "code",
   "execution_count": 54,
   "metadata": {
    "execution": {
     "iopub.execute_input": "2023-05-09T10:54:00.483385Z",
     "iopub.status.busy": "2023-05-09T10:54:00.482825Z",
     "iopub.status.idle": "2023-05-09T10:54:00.492972Z",
     "shell.execute_reply": "2023-05-09T10:54:00.491732Z",
     "shell.execute_reply.started": "2023-05-09T10:54:00.483354Z"
    }
   },
   "outputs": [
    {
     "name": "stdout",
     "output_type": "stream",
     "text": [
      "[[197   0   0   0   2   1   0]\n",
      " [  0 141   0   0   0   0   0]\n",
      " [  3   0 147   0   1   0   0]\n",
      " [  0   0   0 306   0   0   1]\n",
      " [  1   1   0   0 114   3   0]\n",
      " [  1   0   0   0   1  88   0]\n",
      " [  0   0   0   2   0   1 406]]\n"
     ]
    }
   ],
   "source": [
    "print(confusion_matrix(np.argmax(y_test, axis=1), np.argmax(y_pred, axis=1)))"
   ]
  },
  {
   "cell_type": "code",
   "execution_count": 55,
   "metadata": {
    "execution": {
     "iopub.execute_input": "2023-05-09T10:54:00.495521Z",
     "iopub.status.busy": "2023-05-09T10:54:00.494484Z",
     "iopub.status.idle": "2023-05-09T10:54:00.510333Z",
     "shell.execute_reply": "2023-05-09T10:54:00.509244Z",
     "shell.execute_reply.started": "2023-05-09T10:54:00.495483Z"
    }
   },
   "outputs": [
    {
     "name": "stdout",
     "output_type": "stream",
     "text": [
      "              precision    recall  f1-score   support\n",
      "\n",
      "           0       0.98      0.98      0.98       200\n",
      "           1       0.99      1.00      1.00       141\n",
      "           2       1.00      0.97      0.99       151\n",
      "           3       0.99      1.00      1.00       307\n",
      "           4       0.97      0.96      0.96       119\n",
      "           5       0.95      0.98      0.96        90\n",
      "           6       1.00      0.99      1.00       409\n",
      "\n",
      "    accuracy                           0.99      1417\n",
      "   macro avg       0.98      0.98      0.98      1417\n",
      "weighted avg       0.99      0.99      0.99      1417\n",
      "\n"
     ]
    }
   ],
   "source": [
    "print(classification_report(np.argmax(y_test, axis=1), np.argmax(y_pred, axis=1)))"
   ]
  },
  {
   "cell_type": "markdown",
   "metadata": {},
   "source": [
    "# **Bi-GRU**\n",
    "\n",
    "Total Params = 514007\n",
    "\n",
    "Average Inference Time (for each step) = 33ms\n",
    "\n",
    "Accuracy = 99%\n",
    "\n",
    "Model Size(on system) = 5.93 MB"
   ]
  },
  {
   "cell_type": "code",
   "execution_count": 51,
   "metadata": {
    "execution": {
     "iopub.execute_input": "2023-05-09T10:53:39.152855Z",
     "iopub.status.busy": "2023-05-09T10:53:39.150376Z",
     "iopub.status.idle": "2023-05-09T10:53:39.370083Z",
     "shell.execute_reply": "2023-05-09T10:53:39.369141Z",
     "shell.execute_reply.started": "2023-05-09T10:53:39.152817Z"
    }
   },
   "outputs": [
    {
     "data": {
      "image/png": "[encoded data removed]",
      "text/plain": [
       "<Figure size 640x480 with 1 Axes>"
      ]
     },
     "metadata": {},
     "output_type": "display_data"
    }
   ],
   "source": [
    "# plot training and validation loss\n",
    "plt.plot(history['loss'], label='Training Loss')\n",
    "plt.plot(history['val_loss'], label='Validation Loss')\n",
    "\n",
    "plt.title('Loss vs Epoch')\n",
    "plt.xlabel('Epoch')\n",
    "plt.ylabel('Loss')\n",
    "plt.legend()\n",
    "plt.show()"
   ]
  },
  {
   "cell_type": "code",
   "execution_count": 52,
   "metadata": {
    "execution": {
     "iopub.execute_input": "2023-05-09T10:53:39.371741Z",
     "iopub.status.busy": "2023-05-09T10:53:39.371336Z",
     "iopub.status.idle": "2023-05-09T10:53:39.581519Z",
     "shell.execute_reply": "2023-05-09T10:53:39.580525Z",
     "shell.execute_reply.started": "2023-05-09T10:53:39.371702Z"
    }
   },
   "outputs": [
    {
     "data": {
      "image/png": "[encoded data removed]",
      "text/plain": [
       "<Figure size 640x480 with 1 Axes>"
      ]
     },
     "metadata": {},
     "output_type": "display_data"
    }
   ],
   "source": [
    "plt.plot(history['accuracy'], label='Training Accuracy')\n",
    "plt.plot(history['val_accuracy'], label='Validation Accuracy')\n",
    "\n",
    "plt.title('Accuracy vs Epoch')\n",
    "plt.xlabel('Epoch')\n",
    "plt.ylabel('Accuracy')\n",
    "plt.legend()\n",
    "plt.show()"
   ]
  },
  {
   "cell_type": "markdown",
   "metadata": {},
   "source": [
    "# Modified Code for CNN with simple GRU (not bidirectional and no Attention Layer also)"
   ]
  },
  {
   "cell_type": "code",
   "execution_count": 153,
   "metadata": {
    "execution": {
     "iopub.execute_input": "2023-05-09T14:08:20.196141Z",
     "iopub.status.busy": "2023-05-09T14:08:20.195699Z",
     "iopub.status.idle": "2023-05-09T14:08:20.241804Z",
     "shell.execute_reply": "2023-05-09T14:08:20.240735Z",
     "shell.execute_reply.started": "2023-05-09T14:08:20.196104Z"
    }
   },
   "outputs": [],
   "source": [
    "class CSIModelConfig_CNNGRU:\n",
    "    def __init__(self, win_len=1000, step=200, thrshd=0.6, downsample=2):\n",
    "        self._win_len = win_len\n",
    "        self._step = step\n",
    "        self._thrshd = thrshd\n",
    "        self._labels = (\"bed\", \"fall\", \"pickup\", \"run\", \"sitdown\", \"standup\", \"walk\")\n",
    "        self._downsample = downsample\n",
    "\n",
    "    def preprocessing(self, raw_folder, save=False):\n",
    "        numpy_tuple = extract_csi(raw_folder, self._labels, save, self._win_len, self._thrshd, self._step)\n",
    "        if self._downsample > 1:\n",
    "            return tuple([v[:, ::self._downsample,...] if i%2 ==0 else v for i, v in enumerate(numpy_tuple)])\n",
    "        return numpy_tuple\n",
    "    \n",
    "    def load_csi_data_from_files(self, np_files):\n",
    "        if len(np_files) != 7:\n",
    "            raise ValueError('There should be 7 numpy files for bed, fall, pickup, run, sitdown, standup, walk.')\n",
    "        x = [np.load(f)['arr_0'] for f in np_files]\n",
    "        if self._downsample > 1:\n",
    "            x = [arr[:,::self._downsample, :] for arr in x]\n",
    "        y = [np.zeros((arr.shape[0], len(self._labels))) for arr in x]\n",
    "        numpy_list = []\n",
    "        for i in range(len(self._labels)):\n",
    "            y[i][:,i] = 1\n",
    "            numpy_list.append(x[i])\n",
    "            numpy_list.append(y[i])\n",
    "        return tuple(numpy_list)\n",
    "\n",
    "\n",
    "    \n",
    "    def build_model(self, num_filters=64, kernel_size=3, n_unit_gru=150):\n",
    "        \"\"\"\n",
    "        Returns the Tensorflow Model which uses CNN + GRU\n",
    "        \"\"\"\n",
    "        if self._downsample > 1:\n",
    "            length = len(np.ones((self._win_len,))[::self._downsample])\n",
    "            x_in = tf.keras.Input(shape=(length, 90))\n",
    "        else:\n",
    "            x_in = tf.keras.Input(shape=(self._win_len, 90))\n",
    "        x_tensor = tf.keras.layers.Conv1D(num_filters, kernel_size, activation='relu')(x_in)\n",
    "        x_tensor = tf.keras.layers.MaxPooling1D(pool_size=2)(x_tensor)\n",
    "        x_tensor = tf.keras.layers.GRU(units=n_unit_gru, return_sequences=False)(x_tensor)\n",
    "        pred = tf.keras.layers.Dense(len(self._labels), activation='softmax')(x_tensor)\n",
    "        model = tf.keras.Model(inputs=x_in, outputs=pred)\n",
    "        return model\n",
    "    \n",
    "    \n",
    "    @staticmethod\n",
    "    def load_model(hdf5path):\n",
    "        \"\"\"\n",
    "        Returns the Tensorflow Model for AttenLayer\n",
    "        Args:\n",
    "            hdf5path: str, the model file path\n",
    "        \"\"\"\n",
    "        model = tf.keras.models.load_model(hdf5path, custom_objects={'AttenLayer':AttenLayer})\n",
    "        return model"
   ]
  },
  {
   "cell_type": "code",
   "execution_count": 154,
   "metadata": {
    "execution": {
     "iopub.execute_input": "2023-05-09T14:08:22.378434Z",
     "iopub.status.busy": "2023-05-09T14:08:22.377388Z",
     "iopub.status.idle": "2023-05-09T14:08:22.383592Z",
     "shell.execute_reply": "2023-05-09T14:08:22.382091Z",
     "shell.execute_reply.started": "2023-05-09T14:08:22.378391Z"
    }
   },
   "outputs": [],
   "source": [
    "cfg_CNNGRU = CSIModelConfig_CNNGRU(win_len=1000, step=200, thrshd=0.6, downsample=2)"
   ]
  },
  {
   "cell_type": "code",
   "execution_count": 155,
   "metadata": {
    "execution": {
     "iopub.execute_input": "2023-05-09T14:08:23.887482Z",
     "iopub.status.busy": "2023-05-09T14:08:23.887116Z",
     "iopub.status.idle": "2023-05-09T14:09:58.928014Z",
     "shell.execute_reply": "2023-05-09T14:09:58.926987Z",
     "shell.execute_reply.started": "2023-05-09T14:08:23.887448Z"
    }
   },
   "outputs": [
    {
     "name": "stdout",
     "output_type": "stream",
     "text": [
      "Model: \"model\"\n",
      "_________________________________________________________________\n",
      " Layer (type)                Output Shape              Param #   \n",
      "=================================================================\n",
      " input_1 (InputLayer)        [(None, 500, 90)]         0         \n",
      "                                                                 \n",
      " conv1d (Conv1D)             (None, 498, 64)           17344     \n",
      "                                                                 \n",
      " max_pooling1d (MaxPooling1D  (None, 249, 64)          0         \n",
      " )                                                               \n",
      "                                                                 \n",
      " gru (GRU)                   (None, 150)               97200     \n",
      "                                                                 \n",
      " dense (Dense)               (None, 7)                 1057      \n",
      "                                                                 \n",
      "=================================================================\n",
      "Total params: 115,601\n",
      "Trainable params: 115,601\n",
      "Non-trainable params: 0\n",
      "_________________________________________________________________\n",
      "Epoch 1/150\n",
      "40/40 [==============================] - 5s 64ms/step - loss: 1.7882 - accuracy: 0.3244 - val_loss: 1.5818 - val_accuracy: 0.4162\n",
      "Epoch 2/150\n",
      "40/40 [==============================] - 2s 45ms/step - loss: 1.4777 - accuracy: 0.4782 - val_loss: 1.4189 - val_accuracy: 0.5150\n",
      "Epoch 3/150\n",
      "40/40 [==============================] - 2s 43ms/step - loss: 1.3462 - accuracy: 0.5367 - val_loss: 1.3109 - val_accuracy: 0.5767\n",
      "Epoch 4/150\n",
      "40/40 [==============================] - 2s 43ms/step - loss: 1.2462 - accuracy: 0.5812 - val_loss: 1.2130 - val_accuracy: 0.6067\n",
      "Epoch 5/150\n",
      "40/40 [==============================] - 2s 43ms/step - loss: 1.1607 - accuracy: 0.6228 - val_loss: 1.1412 - val_accuracy: 0.6332\n",
      "Epoch 6/150\n",
      "40/40 [==============================] - 2s 44ms/step - loss: 1.0883 - accuracy: 0.6542 - val_loss: 1.0680 - val_accuracy: 0.6561\n",
      "Epoch 7/150\n",
      "40/40 [==============================] - 2s 43ms/step - loss: 1.0169 - accuracy: 0.6848 - val_loss: 1.0000 - val_accuracy: 0.7055\n",
      "Epoch 8/150\n",
      "40/40 [==============================] - 2s 44ms/step - loss: 0.9553 - accuracy: 0.7091 - val_loss: 0.9456 - val_accuracy: 0.7002\n",
      "Epoch 9/150\n",
      "40/40 [==============================] - 2s 43ms/step - loss: 0.8976 - accuracy: 0.7266 - val_loss: 0.8862 - val_accuracy: 0.7372\n",
      "Epoch 10/150\n",
      "40/40 [==============================] - 2s 43ms/step - loss: 0.8449 - accuracy: 0.7434 - val_loss: 0.8376 - val_accuracy: 0.7496\n",
      "Epoch 11/150\n",
      "40/40 [==============================] - 2s 44ms/step - loss: 0.7899 - accuracy: 0.7621 - val_loss: 0.7798 - val_accuracy: 0.7690\n",
      "Epoch 12/150\n",
      "40/40 [==============================] - 2s 44ms/step - loss: 0.7449 - accuracy: 0.7772 - val_loss: 0.7429 - val_accuracy: 0.7795\n",
      "Epoch 13/150\n",
      "40/40 [==============================] - 2s 46ms/step - loss: 0.6948 - accuracy: 0.7911 - val_loss: 0.6887 - val_accuracy: 0.7972\n",
      "Epoch 14/150\n",
      "40/40 [==============================] - 2s 44ms/step - loss: 0.6483 - accuracy: 0.8017 - val_loss: 0.6354 - val_accuracy: 0.8113\n",
      "Epoch 15/150\n",
      "40/40 [==============================] - 2s 45ms/step - loss: 0.6046 - accuracy: 0.8174 - val_loss: 0.5886 - val_accuracy: 0.8272\n",
      "Epoch 16/150\n",
      "40/40 [==============================] - 2s 47ms/step - loss: 0.5602 - accuracy: 0.8348 - val_loss: 0.5654 - val_accuracy: 0.8289\n",
      "Epoch 17/150\n",
      "40/40 [==============================] - 2s 45ms/step - loss: 0.5254 - accuracy: 0.8499 - val_loss: 0.5262 - val_accuracy: 0.8448\n",
      "Epoch 18/150\n",
      "40/40 [==============================] - 2s 43ms/step - loss: 0.5046 - accuracy: 0.8596 - val_loss: 0.4863 - val_accuracy: 0.8642\n",
      "Epoch 19/150\n",
      "40/40 [==============================] - 2s 43ms/step - loss: 0.4632 - accuracy: 0.8729 - val_loss: 0.4803 - val_accuracy: 0.8642\n",
      "Epoch 20/150\n",
      "40/40 [==============================] - 2s 45ms/step - loss: 0.4418 - accuracy: 0.8727 - val_loss: 0.4272 - val_accuracy: 0.8907\n",
      "Epoch 21/150\n",
      "40/40 [==============================] - 2s 42ms/step - loss: 0.3996 - accuracy: 0.8980 - val_loss: 0.4092 - val_accuracy: 0.8924\n",
      "Epoch 22/150\n",
      "40/40 [==============================] - 2s 45ms/step - loss: 0.3803 - accuracy: 0.8992 - val_loss: 0.3681 - val_accuracy: 0.9065\n",
      "Epoch 23/150\n",
      "40/40 [==============================] - 2s 43ms/step - loss: 0.3557 - accuracy: 0.9033 - val_loss: 0.3371 - val_accuracy: 0.9171\n",
      "Epoch 24/150\n",
      "40/40 [==============================] - 2s 44ms/step - loss: 0.3300 - accuracy: 0.9164 - val_loss: 0.3505 - val_accuracy: 0.9030\n",
      "Epoch 25/150\n",
      "40/40 [==============================] - 2s 43ms/step - loss: 0.3171 - accuracy: 0.9166 - val_loss: 0.3145 - val_accuracy: 0.9295\n",
      "Epoch 26/150\n",
      "40/40 [==============================] - 2s 44ms/step - loss: 0.2973 - accuracy: 0.9239 - val_loss: 0.3696 - val_accuracy: 0.8818\n",
      "Epoch 27/150\n",
      "40/40 [==============================] - 2s 43ms/step - loss: 0.2756 - accuracy: 0.9284 - val_loss: 0.2615 - val_accuracy: 0.9489\n",
      "Epoch 28/150\n",
      "40/40 [==============================] - 2s 43ms/step - loss: 0.2546 - accuracy: 0.9368 - val_loss: 0.2626 - val_accuracy: 0.9295\n",
      "Epoch 29/150\n",
      "40/40 [==============================] - 2s 42ms/step - loss: 0.2418 - accuracy: 0.9368 - val_loss: 0.2993 - val_accuracy: 0.9136\n",
      "Epoch 30/150\n",
      "40/40 [==============================] - 2s 46ms/step - loss: 0.2623 - accuracy: 0.9262 - val_loss: 0.2302 - val_accuracy: 0.9524\n",
      "Epoch 31/150\n",
      "40/40 [==============================] - 2s 45ms/step - loss: 0.2195 - accuracy: 0.9451 - val_loss: 0.2370 - val_accuracy: 0.9365\n",
      "Epoch 32/150\n",
      "40/40 [==============================] - 2s 43ms/step - loss: 0.2057 - accuracy: 0.9514 - val_loss: 0.2103 - val_accuracy: 0.9453\n",
      "Epoch 33/150\n",
      "40/40 [==============================] - 2s 43ms/step - loss: 0.2197 - accuracy: 0.9433 - val_loss: 0.1969 - val_accuracy: 0.9524\n",
      "Epoch 34/150\n",
      "40/40 [==============================] - 2s 43ms/step - loss: 0.1933 - accuracy: 0.9551 - val_loss: 0.2279 - val_accuracy: 0.9347\n",
      "Epoch 35/150\n",
      "40/40 [==============================] - 2s 44ms/step - loss: 0.1804 - accuracy: 0.9578 - val_loss: 0.1897 - val_accuracy: 0.9559\n",
      "Epoch 36/150\n",
      "40/40 [==============================] - 2s 44ms/step - loss: 0.1818 - accuracy: 0.9606 - val_loss: 0.1792 - val_accuracy: 0.9541\n",
      "Epoch 37/150\n",
      "40/40 [==============================] - 2s 42ms/step - loss: 0.1858 - accuracy: 0.9565 - val_loss: 0.1991 - val_accuracy: 0.9453\n",
      "Epoch 38/150\n",
      "40/40 [==============================] - 2s 43ms/step - loss: 0.1746 - accuracy: 0.9606 - val_loss: 0.1656 - val_accuracy: 0.9559\n",
      "Epoch 39/150\n",
      "40/40 [==============================] - 2s 44ms/step - loss: 0.1520 - accuracy: 0.9668 - val_loss: 0.1572 - val_accuracy: 0.9630\n",
      "Epoch 40/150\n",
      "40/40 [==============================] - 2s 42ms/step - loss: 0.1748 - accuracy: 0.9582 - val_loss: 0.1649 - val_accuracy: 0.9577\n",
      "Epoch 41/150\n",
      "40/40 [==============================] - 2s 43ms/step - loss: 0.1540 - accuracy: 0.9633 - val_loss: 0.1481 - val_accuracy: 0.9630\n",
      "Epoch 42/150\n",
      "40/40 [==============================] - 2s 42ms/step - loss: 0.1382 - accuracy: 0.9688 - val_loss: 0.1470 - val_accuracy: 0.9612\n",
      "Epoch 43/150\n",
      "40/40 [==============================] - 2s 44ms/step - loss: 0.1652 - accuracy: 0.9608 - val_loss: 0.2256 - val_accuracy: 0.9312\n",
      "Epoch 44/150\n",
      "40/40 [==============================] - 2s 43ms/step - loss: 0.1453 - accuracy: 0.9692 - val_loss: 0.1324 - val_accuracy: 0.9665\n",
      "Epoch 45/150\n",
      "40/40 [==============================] - 2s 44ms/step - loss: 0.1256 - accuracy: 0.9727 - val_loss: 0.1254 - val_accuracy: 0.9665\n",
      "Epoch 46/150\n",
      "40/40 [==============================] - 2s 43ms/step - loss: 0.1162 - accuracy: 0.9741 - val_loss: 0.1255 - val_accuracy: 0.9700\n",
      "Epoch 47/150\n",
      "40/40 [==============================] - 2s 42ms/step - loss: 0.1130 - accuracy: 0.9749 - val_loss: 0.1258 - val_accuracy: 0.9647\n",
      "Epoch 48/150\n",
      "40/40 [==============================] - 2s 43ms/step - loss: 0.1126 - accuracy: 0.9753 - val_loss: 0.1120 - val_accuracy: 0.9735\n",
      "Epoch 49/150\n",
      "40/40 [==============================] - 2s 45ms/step - loss: 0.1005 - accuracy: 0.9774 - val_loss: 0.1144 - val_accuracy: 0.9735\n",
      "Epoch 50/150\n",
      "40/40 [==============================] - 2s 43ms/step - loss: 0.1066 - accuracy: 0.9767 - val_loss: 0.1327 - val_accuracy: 0.9683\n",
      "Epoch 51/150\n",
      "40/40 [==============================] - 2s 43ms/step - loss: 0.1019 - accuracy: 0.9776 - val_loss: 0.1229 - val_accuracy: 0.9683\n"
     ]
    }
   ],
   "source": [
    "model = cfg_CNNGRU.build_model()\n",
    "model.compile(\n",
    "    optimizer=tf.keras.optimizers.Adam(learning_rate=1e-4),\n",
    "    loss='categorical_crossentropy', \n",
    "    metrics=['accuracy'])\n",
    "\n",
    "model.summary()\n",
    "\n",
    "history = model.fit(\n",
    "    x_train,\n",
    "    y_train,\n",
    "    batch_size=128, epochs=150,\n",
    "    validation_data=(x_valid, y_valid),\n",
    "     callbacks=[\n",
    "        tf.keras.callbacks.ModelCheckpoint('best_attention_cnngru.hdf5',\n",
    "                                            monitor='val_accuracy',\n",
    "                                            save_best_only=True,\n",
    "                                            save_weights_only=False),\n",
    "         tf.keras.callbacks.EarlyStopping(monitor='val_loss', patience=3)\n",
    "        ])\n",
    "\n",
    "with open('history_cnngru.pkl', 'wb') as f:\n",
    "    pickle.dump(history.history, f)"
   ]
  },
  {
   "cell_type": "code",
   "execution_count": 156,
   "metadata": {
    "execution": {
     "iopub.execute_input": "2023-05-09T14:09:58.932357Z",
     "iopub.status.busy": "2023-05-09T14:09:58.931104Z",
     "iopub.status.idle": "2023-05-09T14:10:51.876454Z",
     "shell.execute_reply": "2023-05-09T14:10:51.875315Z",
     "shell.execute_reply.started": "2023-05-09T14:09:58.932314Z"
    }
   },
   "outputs": [
    {
     "name": "stdout",
     "output_type": "stream",
     "text": [
      "45/45 [==============================] - 1s 9ms/step\n"
     ]
    }
   ],
   "source": [
    "# load the best model\n",
    "model = cfg.load_model('/kaggle/input/trained-models/best_attention_cnngru.hdf5')\n",
    "#load the history\n",
    "with open('/kaggle/input/trained-models/history_cnngru.pkl', 'rb') as f:\n",
    "    history = pickle.load(f)\n",
    "\n",
    "# evaluate on test set\n",
    "y_pred = model.predict(x_test)"
   ]
  },
  {
   "cell_type": "code",
   "execution_count": 157,
   "metadata": {
    "execution": {
     "iopub.execute_input": "2023-05-09T14:10:56.447826Z",
     "iopub.status.busy": "2023-05-09T14:10:56.447214Z",
     "iopub.status.idle": "2023-05-09T14:10:56.459483Z",
     "shell.execute_reply": "2023-05-09T14:10:56.458349Z",
     "shell.execute_reply.started": "2023-05-09T14:10:56.447781Z"
    }
   },
   "outputs": [
    {
     "name": "stdout",
     "output_type": "stream",
     "text": [
      "[[194   3   3   0   0   0   0]\n",
      " [  0 140   1   0   0   0   0]\n",
      " [  3   0 147   0   0   0   1]\n",
      " [  0   0   0 304   0   1   2]\n",
      " [  2   0   1   0 115   0   1]\n",
      " [  2   0   4   0   6  78   0]\n",
      " [  1   0   0   0   0   0 408]]\n"
     ]
    }
   ],
   "source": [
    "print(confusion_matrix(np.argmax(y_test, axis=1), np.argmax(y_pred, axis=1)))"
   ]
  },
  {
   "cell_type": "code",
   "execution_count": 158,
   "metadata": {
    "execution": {
     "iopub.execute_input": "2023-05-09T14:10:56.735635Z",
     "iopub.status.busy": "2023-05-09T14:10:56.734525Z",
     "iopub.status.idle": "2023-05-09T14:10:56.757149Z",
     "shell.execute_reply": "2023-05-09T14:10:56.756018Z",
     "shell.execute_reply.started": "2023-05-09T14:10:56.735592Z"
    }
   },
   "outputs": [
    {
     "name": "stdout",
     "output_type": "stream",
     "text": [
      "              precision    recall  f1-score   support\n",
      "\n",
      "           0       0.96      0.97      0.97       200\n",
      "           1       0.98      0.99      0.99       141\n",
      "           2       0.94      0.97      0.96       151\n",
      "           3       1.00      0.99      1.00       307\n",
      "           4       0.95      0.97      0.96       119\n",
      "           5       0.99      0.87      0.92        90\n",
      "           6       0.99      1.00      0.99       409\n",
      "\n",
      "    accuracy                           0.98      1417\n",
      "   macro avg       0.97      0.97      0.97      1417\n",
      "weighted avg       0.98      0.98      0.98      1417\n",
      "\n"
     ]
    }
   ],
   "source": [
    "print(classification_report(np.argmax(y_test, axis=1), np.argmax(y_pred, axis=1)))"
   ]
  },
  {
   "cell_type": "markdown",
   "metadata": {},
   "source": [
    "# **CNN-GRU**\n",
    "\n",
    "Total Params = 230239\n",
    "\n",
    "Average Inference Time (for each step) = 9ms\n",
    "\n",
    "Accuracy = 98%\n",
    "\n",
    "Model Size(on system) = 1.36 MB"
   ]
  },
  {
   "cell_type": "code",
   "execution_count": 50,
   "metadata": {
    "execution": {
     "iopub.execute_input": "2023-05-09T11:57:33.694748Z",
     "iopub.status.busy": "2023-05-09T11:57:33.694346Z",
     "iopub.status.idle": "2023-05-09T11:57:33.952175Z",
     "shell.execute_reply": "2023-05-09T11:57:33.950976Z",
     "shell.execute_reply.started": "2023-05-09T11:57:33.694709Z"
    }
   },
   "outputs": [
    {
     "data": {
      "image/png": "[encoded data removed]",
      "text/plain": [
       "<Figure size 640x480 with 1 Axes>"
      ]
     },
     "metadata": {},
     "output_type": "display_data"
    }
   ],
   "source": [
    "# plot training and validation loss\n",
    "plt.plot(history['loss'], label='Training Loss')\n",
    "plt.plot(history['val_loss'], label='Validation Loss')\n",
    "\n",
    "plt.title('Loss vs Epoch')\n",
    "plt.xlabel('Epoch')\n",
    "plt.ylabel('Loss')\n",
    "plt.legend()\n",
    "plt.show()"
   ]
  },
  {
   "cell_type": "code",
   "execution_count": 51,
   "metadata": {
    "execution": {
     "iopub.execute_input": "2023-05-09T11:57:33.954243Z",
     "iopub.status.busy": "2023-05-09T11:57:33.953848Z",
     "iopub.status.idle": "2023-05-09T11:57:34.183214Z",
     "shell.execute_reply": "2023-05-09T11:57:34.182024Z",
     "shell.execute_reply.started": "2023-05-09T11:57:33.954203Z"
    }
   },
   "outputs": [
    {
     "data": {
      "image/png": "[encoded data removed]",
      "text/plain": [
       "<Figure size 640x480 with 1 Axes>"
      ]
     },
     "metadata": {},
     "output_type": "display_data"
    }
   ],
   "source": [
    "plt.plot(history['accuracy'], label='Training Accuracy')\n",
    "plt.plot(history['val_accuracy'], label='Validation Accuracy')\n",
    "\n",
    "plt.title('Accuracy vs Epoch')\n",
    "plt.xlabel('Epoch')\n",
    "plt.ylabel('Accuracy')\n",
    "plt.legend()\n",
    "plt.show()"
   ]
  },
  {
   "cell_type": "code",
   "execution_count": 10,
   "metadata": {
    "execution": {
     "iopub.execute_input": "2023-05-09T12:46:19.640106Z",
     "iopub.status.busy": "2023-05-09T12:46:19.639421Z",
     "iopub.status.idle": "2023-05-09T12:46:19.646072Z",
     "shell.execute_reply": "2023-05-09T12:46:19.644757Z",
     "shell.execute_reply.started": "2023-05-09T12:46:19.640067Z"
    }
   },
   "outputs": [],
   "source": [
    "cfg_CNNGRU = CSIModelConfig_CNNGRU(win_len=1000, step=200, thrshd=0.6, downsample=2)"
   ]
  },
  {
   "cell_type": "code",
   "execution_count": 11,
   "metadata": {
    "execution": {
     "iopub.execute_input": "2023-05-09T12:46:20.613936Z",
     "iopub.status.busy": "2023-05-09T12:46:20.613016Z",
     "iopub.status.idle": "2023-05-09T12:46:23.871079Z",
     "shell.execute_reply": "2023-05-09T12:46:23.869986Z",
     "shell.execute_reply.started": "2023-05-09T12:46:20.613879Z"
    }
   },
   "outputs": [],
   "source": [
    "model = cfg_CNNGRU.load_model('/kaggle/input/trained-models/best_attention_cnngru.hdf5')"
   ]
  },
  {
   "cell_type": "markdown",
   "metadata": {},
   "source": [
    "# Using the CNN-GRU model and fine-tuning after adding pruning "
   ]
  },
  {
   "cell_type": "code",
   "execution_count": 12,
   "metadata": {
    "execution": {
     "iopub.execute_input": "2023-05-09T12:46:23.873497Z",
     "iopub.status.busy": "2023-05-09T12:46:23.872873Z",
     "iopub.status.idle": "2023-05-09T12:46:24.783153Z",
     "shell.execute_reply": "2023-05-09T12:46:24.782345Z",
     "shell.execute_reply.started": "2023-05-09T12:46:23.873465Z"
    }
   },
   "outputs": [
    {
     "name": "stdout",
     "output_type": "stream",
     "text": [
      "Model: \"model_5\"\n",
      "_________________________________________________________________\n",
      " Layer (type)                Output Shape              Param #   \n",
      "=================================================================\n",
      " input_6 (InputLayer)        [(None, 500, 90)]         0         \n",
      "                                                                 \n",
      " prune_low_magnitude_conv1d_  (None, 498, 64)          34626     \n",
      " 5 (PruneLowMagnitude)                                           \n",
      "                                                                 \n",
      " prune_low_magnitude_max_poo  (None, 249, 64)          1         \n",
      " ling1d_5 (PruneLowMagnitude                                     \n",
      " )                                                               \n",
      "                                                                 \n",
      " prune_low_magnitude_gru_5 (  (None, 150)              193503    \n",
      " PruneLowMagnitude)                                              \n",
      "                                                                 \n",
      " prune_low_magnitude_dense_5  (None, 7)                2109      \n",
      "  (PruneLowMagnitude)                                            \n",
      "                                                                 \n",
      "=================================================================\n",
      "Total params: 230,239\n",
      "Trainable params: 115,601\n",
      "Non-trainable params: 114,638\n",
      "_________________________________________________________________\n"
     ]
    }
   ],
   "source": [
    "prune_low_magnitude = tfmot.sparsity.keras.prune_low_magnitude\n",
    "\n",
    "# Compute end step to finish pruning after 60 epochs.\n",
    "batch_size = 128\n",
    "epochs = 60\n",
    "\n",
    "x_shape = x_train.shape[0]\n",
    "end_step = np.ceil(x_shape / batch_size).astype(np.int32) * epochs\n",
    "\n",
    "# Define model for pruning.\n",
    "pruning_params = {\n",
    "      'pruning_schedule': tfmot.sparsity.keras.PolynomialDecay(initial_sparsity=0.20,\n",
    "                                                               final_sparsity=0.50,\n",
    "                                                               begin_step=0,\n",
    "                                                               end_step=end_step)\n",
    "}\n",
    "\n",
    "model_for_pruning = prune_low_magnitude(model, **pruning_params)\n",
    "\n",
    "model_for_pruning.compile(optimizer='adam',\n",
    "              loss=tf.keras.losses.SparseCategoricalCrossentropy(from_logits=False),\n",
    "              metrics=['accuracy'])\n",
    "\n",
    "model_for_pruning.summary()\n",
    "\n"
   ]
  },
  {
   "cell_type": "code",
   "execution_count": 13,
   "metadata": {
    "execution": {
     "iopub.execute_input": "2023-05-09T12:46:28.414758Z",
     "iopub.status.busy": "2023-05-09T12:46:28.414247Z",
     "iopub.status.idle": "2023-05-09T12:46:28.422060Z",
     "shell.execute_reply": "2023-05-09T12:46:28.420842Z",
     "shell.execute_reply.started": "2023-05-09T12:46:28.414708Z"
    }
   },
   "outputs": [],
   "source": [
    "y_train_flat = np.argmax(y_train, axis=1)\n",
    "y_valid_flat = np.argmax(y_valid, axis=1)\n",
    "y_test_flat = np.argmax(y_test,axis=1)"
   ]
  },
  {
   "cell_type": "code",
   "execution_count": 14,
   "metadata": {
    "execution": {
     "iopub.execute_input": "2023-05-09T12:46:30.081371Z",
     "iopub.status.busy": "2023-05-09T12:46:30.080814Z",
     "iopub.status.idle": "2023-05-09T12:48:04.891713Z",
     "shell.execute_reply": "2023-05-09T12:48:04.890692Z",
     "shell.execute_reply.started": "2023-05-09T12:46:30.081329Z"
    }
   },
   "outputs": [
    {
     "name": "stdout",
     "output_type": "stream",
     "text": [
      "Epoch 1/60\n",
      "40/40 [==============================] - 16s 67ms/step - loss: 1.1149 - accuracy: 0.6322 - val_loss: 0.8082 - val_accuracy: 0.7302\n",
      "Epoch 2/60\n",
      "40/40 [==============================] - 2s 48ms/step - loss: 0.6923 - accuracy: 0.7750 - val_loss: 0.6271 - val_accuracy: 0.8289\n",
      "Epoch 3/60\n",
      "40/40 [==============================] - 2s 44ms/step - loss: 0.5897 - accuracy: 0.8182 - val_loss: 0.5148 - val_accuracy: 0.8183\n",
      "Epoch 4/60\n",
      "40/40 [==============================] - 2s 44ms/step - loss: 0.4868 - accuracy: 0.8541 - val_loss: 0.4416 - val_accuracy: 0.8748\n",
      "Epoch 5/60\n",
      "40/40 [==============================] - 2s 44ms/step - loss: 0.3990 - accuracy: 0.8784 - val_loss: 0.4858 - val_accuracy: 0.8448\n",
      "Epoch 6/60\n",
      "40/40 [==============================] - 2s 45ms/step - loss: 0.3423 - accuracy: 0.8980 - val_loss: 0.2404 - val_accuracy: 0.9383\n",
      "Epoch 7/60\n",
      "40/40 [==============================] - 2s 43ms/step - loss: 0.2746 - accuracy: 0.9188 - val_loss: 0.2614 - val_accuracy: 0.9206\n",
      "Epoch 8/60\n",
      "40/40 [==============================] - 2s 44ms/step - loss: 0.2479 - accuracy: 0.9262 - val_loss: 0.2312 - val_accuracy: 0.9365\n",
      "Epoch 9/60\n",
      "40/40 [==============================] - 2s 44ms/step - loss: 0.2315 - accuracy: 0.9302 - val_loss: 0.1665 - val_accuracy: 0.9541\n",
      "Epoch 10/60\n",
      "40/40 [==============================] - 2s 44ms/step - loss: 0.1828 - accuracy: 0.9468 - val_loss: 0.2070 - val_accuracy: 0.9400\n",
      "Epoch 11/60\n",
      "40/40 [==============================] - 2s 44ms/step - loss: 0.2125 - accuracy: 0.9345 - val_loss: 0.1444 - val_accuracy: 0.9577\n",
      "Epoch 12/60\n",
      "40/40 [==============================] - 2s 44ms/step - loss: 0.1637 - accuracy: 0.9533 - val_loss: 0.1383 - val_accuracy: 0.9594\n",
      "Epoch 13/60\n",
      "40/40 [==============================] - 2s 43ms/step - loss: 0.2738 - accuracy: 0.9090 - val_loss: 0.1963 - val_accuracy: 0.9400\n",
      "Epoch 14/60\n",
      "40/40 [==============================] - 2s 44ms/step - loss: 0.1365 - accuracy: 0.9600 - val_loss: 0.1422 - val_accuracy: 0.9541\n",
      "Epoch 15/60\n",
      "40/40 [==============================] - 2s 43ms/step - loss: 0.2257 - accuracy: 0.9310 - val_loss: 0.2279 - val_accuracy: 0.9295\n",
      "Epoch 16/60\n",
      "40/40 [==============================] - 2s 45ms/step - loss: 0.1588 - accuracy: 0.9557 - val_loss: 0.1094 - val_accuracy: 0.9771\n",
      "Epoch 17/60\n",
      "40/40 [==============================] - 2s 45ms/step - loss: 0.0836 - accuracy: 0.9804 - val_loss: 0.1253 - val_accuracy: 0.9612\n",
      "Epoch 18/60\n",
      "40/40 [==============================] - 2s 45ms/step - loss: 0.1221 - accuracy: 0.9629 - val_loss: 0.1344 - val_accuracy: 0.9700\n",
      "Epoch 19/60\n",
      "40/40 [==============================] - 2s 47ms/step - loss: 0.1135 - accuracy: 0.9653 - val_loss: 0.0720 - val_accuracy: 0.9788\n",
      "Epoch 20/60\n",
      "40/40 [==============================] - 2s 45ms/step - loss: 0.0874 - accuracy: 0.9743 - val_loss: 0.1713 - val_accuracy: 0.9559\n",
      "Epoch 21/60\n",
      "40/40 [==============================] - 2s 43ms/step - loss: 0.1176 - accuracy: 0.9649 - val_loss: 0.0756 - val_accuracy: 0.9771\n",
      "Epoch 22/60\n",
      "40/40 [==============================] - 2s 43ms/step - loss: 0.1144 - accuracy: 0.9657 - val_loss: 0.0962 - val_accuracy: 0.9683\n",
      "Epoch 23/60\n",
      "40/40 [==============================] - 2s 43ms/step - loss: 0.1106 - accuracy: 0.9676 - val_loss: 0.0653 - val_accuracy: 0.9824\n",
      "Epoch 24/60\n",
      "40/40 [==============================] - 2s 43ms/step - loss: 0.0688 - accuracy: 0.9794 - val_loss: 0.0637 - val_accuracy: 0.9859\n",
      "Epoch 25/60\n",
      "40/40 [==============================] - 2s 44ms/step - loss: 0.0809 - accuracy: 0.9763 - val_loss: 0.2282 - val_accuracy: 0.9136\n",
      "Epoch 26/60\n",
      "40/40 [==============================] - 2s 44ms/step - loss: 0.1124 - accuracy: 0.9667 - val_loss: 0.0723 - val_accuracy: 0.9735\n",
      "Epoch 27/60\n",
      "40/40 [==============================] - 2s 43ms/step - loss: 0.1086 - accuracy: 0.9641 - val_loss: 0.0712 - val_accuracy: 0.9806\n",
      "Epoch 28/60\n",
      "40/40 [==============================] - 2s 44ms/step - loss: 0.1255 - accuracy: 0.9619 - val_loss: 0.0798 - val_accuracy: 0.9806\n",
      "Epoch 29/60\n",
      "40/40 [==============================] - 2s 45ms/step - loss: 0.0700 - accuracy: 0.9810 - val_loss: 0.0471 - val_accuracy: 0.9877\n",
      "Epoch 30/60\n",
      "40/40 [==============================] - 2s 45ms/step - loss: 0.0525 - accuracy: 0.9853 - val_loss: 0.1650 - val_accuracy: 0.9612\n",
      "Epoch 31/60\n",
      "40/40 [==============================] - 2s 45ms/step - loss: 0.1071 - accuracy: 0.9651 - val_loss: 0.0457 - val_accuracy: 0.9877\n",
      "Epoch 32/60\n",
      "40/40 [==============================] - 2s 44ms/step - loss: 0.0690 - accuracy: 0.9802 - val_loss: 0.2026 - val_accuracy: 0.9295\n",
      "Epoch 33/60\n",
      "40/40 [==============================] - 2s 44ms/step - loss: 0.0875 - accuracy: 0.9731 - val_loss: 0.0766 - val_accuracy: 0.9824\n",
      "Epoch 34/60\n",
      "40/40 [==============================] - 2s 44ms/step - loss: 0.0388 - accuracy: 0.9912 - val_loss: 0.0337 - val_accuracy: 0.9965\n",
      "Epoch 35/60\n",
      "40/40 [==============================] - 2s 43ms/step - loss: 0.0245 - accuracy: 0.9949 - val_loss: 0.1118 - val_accuracy: 0.9612\n",
      "Epoch 36/60\n",
      "40/40 [==============================] - 2s 44ms/step - loss: 0.1220 - accuracy: 0.9600 - val_loss: 0.0531 - val_accuracy: 0.9859\n",
      "Epoch 37/60\n",
      "40/40 [==============================] - 2s 50ms/step - loss: 0.0348 - accuracy: 0.9916 - val_loss: 0.0421 - val_accuracy: 0.9912\n",
      "Epoch 38/60\n",
      "40/40 [==============================] - 2s 43ms/step - loss: 0.0741 - accuracy: 0.9778 - val_loss: 0.1813 - val_accuracy: 0.9383\n",
      "Epoch 39/60\n",
      "40/40 [==============================] - 2s 43ms/step - loss: 0.0649 - accuracy: 0.9812 - val_loss: 0.0267 - val_accuracy: 0.9965\n",
      "Epoch 40/60\n",
      "40/40 [==============================] - 2s 44ms/step - loss: 0.0237 - accuracy: 0.9953 - val_loss: 0.0715 - val_accuracy: 0.9824\n",
      "Epoch 41/60\n",
      "40/40 [==============================] - 2s 44ms/step - loss: 0.0303 - accuracy: 0.9923 - val_loss: 0.0590 - val_accuracy: 0.9771\n",
      "Epoch 42/60\n",
      "40/40 [==============================] - 2s 45ms/step - loss: 0.0831 - accuracy: 0.9761 - val_loss: 0.0726 - val_accuracy: 0.9788\n",
      "Epoch 43/60\n",
      "40/40 [==============================] - 2s 46ms/step - loss: 0.0422 - accuracy: 0.9896 - val_loss: 0.0701 - val_accuracy: 0.9700\n",
      "Epoch 44/60\n",
      "40/40 [==============================] - 2s 45ms/step - loss: 0.0648 - accuracy: 0.9800 - val_loss: 0.0420 - val_accuracy: 0.9894\n"
     ]
    }
   ],
   "source": [
    "logdir = tempfile.mkdtemp()\n",
    "\n",
    "callbacks = [\n",
    "    tfmot.sparsity.keras.UpdatePruningStep(),\n",
    "    tfmot.sparsity.keras.PruningSummaries(log_dir=logdir),\n",
    "    tf.keras.callbacks.EarlyStopping(monitor='val_loss', patience=5)\n",
    "]\n",
    "\n",
    "history = model_for_pruning.fit(\n",
    "    x_train,\n",
    "    y_train_flat,\n",
    "    batch_size=batch_size,\n",
    "    epochs=epochs,\n",
    "    validation_data=(x_valid, y_valid_flat),\n",
    "    callbacks=callbacks\n",
    ")\n",
    "with open('history_cnngru_prune.pkl', 'wb') as f:\n",
    "    pickle.dump(history.history, f)"
   ]
  },
  {
   "cell_type": "code",
   "execution_count": 15,
   "metadata": {
    "execution": {
     "iopub.execute_input": "2023-05-09T12:48:04.894966Z",
     "iopub.status.busy": "2023-05-09T12:48:04.893966Z",
     "iopub.status.idle": "2023-05-09T12:48:58.444619Z",
     "shell.execute_reply": "2023-05-09T12:48:58.443577Z",
     "shell.execute_reply.started": "2023-05-09T12:48:04.894907Z"
    }
   },
   "outputs": [],
   "source": [
    "model_for_export = tfmot.sparsity.keras.strip_pruning(model_for_pruning)\n",
    "pruned_keras_file = 'best_attention_cnngru_prune.hdf5'\n",
    "tf.keras.models.save_model(model_for_export, pruned_keras_file, include_optimizer=False)"
   ]
  },
  {
   "cell_type": "code",
   "execution_count": 16,
   "metadata": {
    "execution": {
     "iopub.execute_input": "2023-05-09T12:48:58.447173Z",
     "iopub.status.busy": "2023-05-09T12:48:58.446114Z",
     "iopub.status.idle": "2023-05-09T12:48:58.722112Z",
     "shell.execute_reply": "2023-05-09T12:48:58.721311Z",
     "shell.execute_reply.started": "2023-05-09T12:48:58.447133Z"
    }
   },
   "outputs": [
    {
     "name": "stdout",
     "output_type": "stream",
     "text": [
      "Model: \"model_5\"\n",
      "_________________________________________________________________\n",
      " Layer (type)                Output Shape              Param #   \n",
      "=================================================================\n",
      " input_6 (InputLayer)        [(None, 500, 90)]         0         \n",
      "                                                                 \n",
      " conv1d_5 (Conv1D)           (None, 498, 64)           17344     \n",
      "                                                                 \n",
      " max_pooling1d_5 (MaxPooling  (None, 249, 64)          0         \n",
      " 1D)                                                             \n",
      "                                                                 \n",
      " gru_5 (GRU)                 (None, 150)               97200     \n",
      "                                                                 \n",
      " dense_5 (Dense)             (None, 7)                 1057      \n",
      "                                                                 \n",
      "=================================================================\n",
      "Total params: 115,601\n",
      "Trainable params: 115,601\n",
      "Non-trainable params: 0\n",
      "_________________________________________________________________\n"
     ]
    }
   ],
   "source": [
    "model = cfg.load_model('/kaggle/input/trained-models/best_attention_cnngru_prune.hdf5')\n",
    "model.summary()"
   ]
  },
  {
   "cell_type": "code",
   "execution_count": 142,
   "metadata": {
    "execution": {
     "iopub.execute_input": "2023-05-09T13:40:59.024197Z",
     "iopub.status.busy": "2023-05-09T13:40:59.023707Z",
     "iopub.status.idle": "2023-05-09T13:41:00.028640Z",
     "shell.execute_reply": "2023-05-09T13:41:00.027552Z",
     "shell.execute_reply.started": "2023-05-09T13:40:59.024161Z"
    }
   },
   "outputs": [
    {
     "name": "stdout",
     "output_type": "stream",
     "text": [
      "45/45 [==============================] - 0s 7ms/step\n"
     ]
    }
   ],
   "source": [
    "y_pred = model.predict(x_test)"
   ]
  },
  {
   "cell_type": "code",
   "execution_count": 18,
   "metadata": {
    "execution": {
     "iopub.execute_input": "2023-05-09T12:49:00.197605Z",
     "iopub.status.busy": "2023-05-09T12:49:00.197206Z",
     "iopub.status.idle": "2023-05-09T12:49:00.207935Z",
     "shell.execute_reply": "2023-05-09T12:49:00.205874Z",
     "shell.execute_reply.started": "2023-05-09T12:49:00.197543Z"
    }
   },
   "outputs": [
    {
     "name": "stdout",
     "output_type": "stream",
     "text": [
      "[[197   0   3   0   0   0   0]\n",
      " [  0 141   0   0   0   0   0]\n",
      " [  0   0 147   0   1   3   0]\n",
      " [  0   0   0 305   0   0   2]\n",
      " [  1   0   0   0 117   0   1]\n",
      " [  2   0   0   0   1  87   0]\n",
      " [  0   0   0   1   1   0 407]]\n"
     ]
    }
   ],
   "source": [
    "print(confusion_matrix(np.argmax(y_test, axis=1), np.argmax(y_pred, axis=1)))"
   ]
  },
  {
   "cell_type": "code",
   "execution_count": 19,
   "metadata": {
    "execution": {
     "iopub.execute_input": "2023-05-09T12:49:00.210750Z",
     "iopub.status.busy": "2023-05-09T12:49:00.209731Z",
     "iopub.status.idle": "2023-05-09T12:49:00.226064Z",
     "shell.execute_reply": "2023-05-09T12:49:00.224490Z",
     "shell.execute_reply.started": "2023-05-09T12:49:00.210710Z"
    }
   },
   "outputs": [
    {
     "name": "stdout",
     "output_type": "stream",
     "text": [
      "              precision    recall  f1-score   support\n",
      "\n",
      "           0       0.98      0.98      0.98       200\n",
      "           1       1.00      1.00      1.00       141\n",
      "           2       0.98      0.97      0.98       151\n",
      "           3       1.00      0.99      1.00       307\n",
      "           4       0.97      0.98      0.98       119\n",
      "           5       0.97      0.97      0.97        90\n",
      "           6       0.99      1.00      0.99       409\n",
      "\n",
      "    accuracy                           0.99      1417\n",
      "   macro avg       0.99      0.99      0.99      1417\n",
      "weighted avg       0.99      0.99      0.99      1417\n",
      "\n"
     ]
    }
   ],
   "source": [
    "print(classification_report(np.argmax(y_test, axis=1), np.argmax(y_pred, axis=1)))"
   ]
  },
  {
   "cell_type": "markdown",
   "metadata": {},
   "source": [
    "# **CNN-GRU-Pruned**\n",
    "\n",
    "Total Params = 115601\n",
    "\n",
    "Average Inference Time (for each step) = 7ms\n",
    "\n",
    "Accuracy = 99%\n",
    "\n",
    "Model Size(on system) = 471 KB"
   ]
  },
  {
   "cell_type": "code",
   "execution_count": 61,
   "metadata": {
    "execution": {
     "iopub.execute_input": "2023-05-09T12:57:40.833418Z",
     "iopub.status.busy": "2023-05-09T12:57:40.832819Z",
     "iopub.status.idle": "2023-05-09T12:57:41.090041Z",
     "shell.execute_reply": "2023-05-09T12:57:41.089001Z",
     "shell.execute_reply.started": "2023-05-09T12:57:40.833379Z"
    }
   },
   "outputs": [],
   "source": [
    "model = cfg.load_model('/kaggle/input/trained-models/best_attention_cnngru_prune.hdf5')"
   ]
  },
  {
   "cell_type": "markdown",
   "metadata": {},
   "source": [
    "# Attempt to Fully Quantize the Weights to UINT8"
   ]
  },
  {
   "cell_type": "code",
   "execution_count": 62,
   "metadata": {
    "execution": {
     "iopub.execute_input": "2023-05-09T12:57:41.092457Z",
     "iopub.status.busy": "2023-05-09T12:57:41.092100Z",
     "iopub.status.idle": "2023-05-09T12:57:41.111356Z",
     "shell.execute_reply": "2023-05-09T12:57:41.110329Z",
     "shell.execute_reply.started": "2023-05-09T12:57:41.092420Z"
    }
   },
   "outputs": [],
   "source": [
    "import numpy as np\n",
    "import tensorflow as tf\n",
    "from tensorflow import keras\n",
    "\n",
    "def quantize_weights(weights, num_bits):\n",
    "    qmin = -2**(num_bits - 1)\n",
    "    qmax = 2**(num_bits - 1) - 1\n",
    "    q_weights = []\n",
    "    for w in weights:\n",
    "        scale = np.max(np.abs(w)) / (qmax - qmin)\n",
    "        zero_point = np.round((qmax + qmin) / 2)\n",
    "        q_w = np.round(w / scale) + zero_point\n",
    "        q_w = np.clip(q_w, qmin, qmax)\n",
    "        q_w = np.round(q_w).astype(np.int8)\n",
    "        q_w = (q_w - zero_point) * scale\n",
    "        q_weights.append(q_w)\n",
    "    return q_weights, scale, zero_point\n",
    "\n",
    "def load_quantized_model(model_file, num_bits):\n",
    "    q_weights, scale, zero_point = quantize_weights(model.get_weights(), num_bits)\n",
    "    model.set_weights(q_weights)\n",
    "    return model, scale, zero_point\n",
    "\n",
    "# example usage\n",
    "model_file = model\n",
    "num_bits = 8\n",
    "quantized_model, scale, zero_point = load_quantized_model(model_file, num_bits)"
   ]
  },
  {
   "cell_type": "code",
   "execution_count": 63,
   "metadata": {
    "execution": {
     "iopub.execute_input": "2023-05-09T12:57:41.347675Z",
     "iopub.status.busy": "2023-05-09T12:57:41.346629Z",
     "iopub.status.idle": "2023-05-09T12:57:42.911651Z",
     "shell.execute_reply": "2023-05-09T12:57:42.910408Z",
     "shell.execute_reply.started": "2023-05-09T12:57:41.347633Z"
    }
   },
   "outputs": [
    {
     "name": "stdout",
     "output_type": "stream",
     "text": [
      "45/45 [==============================] - 1s 8ms/step\n",
      "[[156   0   5   0  39   0   0]\n",
      " [ 17  97  18   0   0   0   9]\n",
      " [  0   0 151   0   0   0   0]\n",
      " [  0   0   0 251   0   0  56]\n",
      " [  3   0   1   0 109   0   6]\n",
      " [  2   0   3   0   5  80   0]\n",
      " [  0   0   0   1   0   0 408]]\n"
     ]
    }
   ],
   "source": [
    "test_data = x_test # load your test data here\n",
    "test_labels = y_test # load your test labels here\n",
    "quantized_model.compile(loss='categorical_crossentropy', metrics=['accuracy'])\n",
    "y_pred = quantized_model.predict(x_test)\n",
    "from sklearn.metrics import confusion_matrix\n",
    "print(confusion_matrix(np.argmax(y_test, axis=1), np.argmax(y_pred, axis=1)))"
   ]
  },
  {
   "cell_type": "code",
   "execution_count": 64,
   "metadata": {
    "execution": {
     "iopub.execute_input": "2023-05-09T12:57:42.914431Z",
     "iopub.status.busy": "2023-05-09T12:57:42.913546Z",
     "iopub.status.idle": "2023-05-09T12:57:42.928406Z",
     "shell.execute_reply": "2023-05-09T12:57:42.927055Z",
     "shell.execute_reply.started": "2023-05-09T12:57:42.914387Z"
    }
   },
   "outputs": [
    {
     "name": "stdout",
     "output_type": "stream",
     "text": [
      "              precision    recall  f1-score   support\n",
      "\n",
      "           0       0.88      0.78      0.83       200\n",
      "           1       1.00      0.69      0.82       141\n",
      "           2       0.85      1.00      0.92       151\n",
      "           3       1.00      0.82      0.90       307\n",
      "           4       0.71      0.92      0.80       119\n",
      "           5       1.00      0.89      0.94        90\n",
      "           6       0.85      1.00      0.92       409\n",
      "\n",
      "    accuracy                           0.88      1417\n",
      "   macro avg       0.90      0.87      0.87      1417\n",
      "weighted avg       0.90      0.88      0.88      1417\n",
      "\n"
     ]
    }
   ],
   "source": [
    "from sklearn.metrics import classification_report\n",
    "print(classification_report(np.argmax(y_test,axis=1), np.argmax(y_pred, axis=1)))"
   ]
  },
  {
   "cell_type": "markdown",
   "metadata": {},
   "source": [
    "# **Fully Quantized Weights for CNN-GRU-Pruned**\n",
    "\n",
    "Accuracy = 88%\n",
    "\n",
    "Significant Drop from previous accuracies\n",
    "\n",
    "Hence full quantization not possible"
   ]
  },
  {
   "cell_type": "code",
   "execution_count": 104,
   "metadata": {
    "execution": {
     "iopub.execute_input": "2023-05-09T13:17:32.754152Z",
     "iopub.status.busy": "2023-05-09T13:17:32.753228Z",
     "iopub.status.idle": "2023-05-09T13:17:32.758942Z",
     "shell.execute_reply": "2023-05-09T13:17:32.757732Z",
     "shell.execute_reply.started": "2023-05-09T13:17:32.754109Z"
    }
   },
   "outputs": [],
   "source": [
    "original_model = '/kaggle/input/trained-models/best_attention_cnngru.hdf5'"
   ]
  },
  {
   "cell_type": "code",
   "execution_count": 105,
   "metadata": {
    "execution": {
     "iopub.execute_input": "2023-05-09T13:17:32.936343Z",
     "iopub.status.busy": "2023-05-09T13:17:32.933654Z",
     "iopub.status.idle": "2023-05-09T13:17:33.289925Z",
     "shell.execute_reply": "2023-05-09T13:17:33.288859Z",
     "shell.execute_reply.started": "2023-05-09T13:17:32.936299Z"
    }
   },
   "outputs": [],
   "source": [
    "model = cfg.load_model('/kaggle/input/trained-models/best_attention_cnngru_prune.hdf5')"
   ]
  },
  {
   "cell_type": "code",
   "execution_count": 106,
   "metadata": {
    "execution": {
     "iopub.execute_input": "2023-05-09T13:17:33.292560Z",
     "iopub.status.busy": "2023-05-09T13:17:33.291911Z",
     "iopub.status.idle": "2023-05-09T13:17:33.303366Z",
     "shell.execute_reply": "2023-05-09T13:17:33.300237Z",
     "shell.execute_reply.started": "2023-05-09T13:17:33.292513Z"
    }
   },
   "outputs": [],
   "source": [
    "def get_gzipped_model_size(file):\n",
    "  # Returns size of gzipped model, in bytes.\n",
    "    import os\n",
    "    import zipfile\n",
    "\n",
    "    _, zipped_file = tempfile.mkstemp('.zip')\n",
    "    with zipfile.ZipFile(zipped_file, 'w', compression=zipfile.ZIP_DEFLATED) as f:\n",
    "        f.write(file)\n",
    "\n",
    "    return os.path.getsize(zipped_file)"
   ]
  },
  {
   "cell_type": "markdown",
   "metadata": {},
   "source": [
    "# Using Tensorflow to perform Partial Quantization and converting the model to a TFLite model\n",
    "\n",
    "(TensorFlow Lite is a form of compressed and faster model that enables on-device machine learning)"
   ]
  },
  {
   "cell_type": "code",
   "execution_count": 110,
   "metadata": {
    "execution": {
     "iopub.execute_input": "2023-05-09T13:22:39.912085Z",
     "iopub.status.busy": "2023-05-09T13:22:39.911720Z",
     "iopub.status.idle": "2023-05-09T13:22:48.186875Z",
     "shell.execute_reply": "2023-05-09T13:22:48.185644Z",
     "shell.execute_reply.started": "2023-05-09T13:22:39.912054Z"
    }
   },
   "outputs": [
    {
     "name": "stdout",
     "output_type": "stream",
     "text": [
      "Saved quantized and pruned TFLite model to: final_model.tflite\n",
      "Size of baseline Keras model: 1289562.00 bytes\n",
      "Size of pruned and quantized TFlite model: 78735.00 bytes\n",
      "Percentage of Original: 6.11 percent\n"
     ]
    }
   ],
   "source": [
    "converter = tf.lite.TFLiteConverter.from_keras_model(model)\n",
    "converter.optimizations = [tf.lite.Optimize.DEFAULT]\n",
    "converter.target_spec.supported_ops = [\n",
    "    tf.lite.OpsSet.TFLITE_BUILTINS,\n",
    "    tf.lite.OpsSet.SELECT_TF_OPS\n",
    "]\n",
    "quantized_and_pruned_tflite_model = converter.convert()\n",
    "\n",
    "quantized_and_pruned_tflite_file = 'final_model.tflite'\n",
    "\n",
    "with open(quantized_and_pruned_tflite_file, 'wb') as f:\n",
    "    f.write(quantized_and_pruned_tflite_model)\n",
    "\n",
    "print('Saved quantized and pruned TFLite model to:', quantized_and_pruned_tflite_file)\n",
    "baseline = get_gzipped_model_size(original_model)\n",
    "quantized_pruned = get_gzipped_model_size(quantized_and_pruned_tflite_file)\n",
    "print(\"Size of baseline Keras model: %.2f bytes\" % (baseline))\n",
    "print(\"Size of pruned and quantized TFlite model: %.2f bytes\" % (quantized_pruned))\n",
    "print(\"Percentage of Original: %.2f percent\" %((quantized_pruned/baseline)*100))"
   ]
  },
  {
   "cell_type": "code",
   "execution_count": 144,
   "metadata": {
    "execution": {
     "iopub.execute_input": "2023-05-09T13:50:02.447288Z",
     "iopub.status.busy": "2023-05-09T13:50:02.446719Z",
     "iopub.status.idle": "2023-05-09T13:50:02.456233Z",
     "shell.execute_reply": "2023-05-09T13:50:02.454988Z",
     "shell.execute_reply.started": "2023-05-09T13:50:02.447251Z"
    }
   },
   "outputs": [],
   "source": [
    "def evaluate_model(interpreter):\n",
    "    input_index = interpreter.get_input_details()[0][\"index\"]\n",
    "    output_index = interpreter.get_output_details()[0][\"index\"]\n",
    "\n",
    "    # Run predictions on every image in the \"test\" dataset.\n",
    "    prediction_digits = []\n",
    "    inference_times = []  # to store inference times for each image\n",
    "    \n",
    "    for i, test in enumerate(x_test):\n",
    "        test = np.expand_dims(test, axis=0).astype(np.float32)\n",
    "        interpreter.set_tensor(input_index, test)\n",
    "\n",
    "        # Measure inference time\n",
    "        start_time = time.time()\n",
    "        interpreter.invoke()\n",
    "        end_time = time.time()\n",
    "        inference_time = end_time - start_time\n",
    "        inference_times.append(inference_time)\n",
    "\n",
    "        output = interpreter.tensor(output_index)\n",
    "        digit = np.argmax(output()[0])\n",
    "        prediction_digits.append(digit)\n",
    "\n",
    "    print('\\n')\n",
    "    prediction_digits = np.array(prediction_digits)\n",
    "    inference_times = np.array(inference_times)\n",
    "    return prediction_digits, inference_times"
   ]
  },
  {
   "cell_type": "code",
   "execution_count": 146,
   "metadata": {
    "execution": {
     "iopub.execute_input": "2023-05-09T13:51:29.541426Z",
     "iopub.status.busy": "2023-05-09T13:51:29.540911Z",
     "iopub.status.idle": "2023-05-09T13:51:47.165023Z",
     "shell.execute_reply": "2023-05-09T13:51:47.163706Z",
     "shell.execute_reply.started": "2023-05-09T13:51:29.541383Z"
    }
   },
   "outputs": [
    {
     "name": "stdout",
     "output_type": "stream",
     "text": [
      "\n",
      "\n"
     ]
    }
   ],
   "source": [
    "interpreter = tf.lite.Interpreter(model_path='/kaggle/input/trained-models/final_model.tflite')\n",
    "interpreter.allocate_tensors()\n",
    "\n",
    "y_pred,inference_times = evaluate_model(interpreter)"
   ]
  },
  {
   "cell_type": "code",
   "execution_count": 150,
   "metadata": {
    "execution": {
     "iopub.execute_input": "2023-05-09T13:52:06.959710Z",
     "iopub.status.busy": "2023-05-09T13:52:06.959210Z",
     "iopub.status.idle": "2023-05-09T13:52:06.966105Z",
     "shell.execute_reply": "2023-05-09T13:52:06.964561Z",
     "shell.execute_reply.started": "2023-05-09T13:52:06.959673Z"
    }
   },
   "outputs": [
    {
     "name": "stdout",
     "output_type": "stream",
     "text": [
      "Average Inference Time: 1.2289692839014756 ms\n"
     ]
    }
   ],
   "source": [
    "print('Average Inference Time:',np.array(inference_times).mean()*100,'ms')"
   ]
  },
  {
   "cell_type": "code",
   "execution_count": 148,
   "metadata": {
    "execution": {
     "iopub.execute_input": "2023-05-09T13:51:47.177504Z",
     "iopub.status.busy": "2023-05-09T13:51:47.176782Z",
     "iopub.status.idle": "2023-05-09T13:51:47.186508Z",
     "shell.execute_reply": "2023-05-09T13:51:47.185375Z",
     "shell.execute_reply.started": "2023-05-09T13:51:47.177457Z"
    }
   },
   "outputs": [
    {
     "name": "stdout",
     "output_type": "stream",
     "text": [
      "[[197   0   3   0   0   0   0]\n",
      " [  0 141   0   0   0   0   0]\n",
      " [  0   0 148   0   0   3   0]\n",
      " [  0   0   0 305   0   0   2]\n",
      " [  1   0   0   0 116   1   1]\n",
      " [  2   0   0   0   1  87   0]\n",
      " [  0   0   0   1   1   0 407]]\n"
     ]
    }
   ],
   "source": [
    "print(confusion_matrix(np.argmax(y_test, axis=1), y_pred))"
   ]
  },
  {
   "cell_type": "code",
   "execution_count": 149,
   "metadata": {
    "execution": {
     "iopub.execute_input": "2023-05-09T13:51:47.189411Z",
     "iopub.status.busy": "2023-05-09T13:51:47.188930Z",
     "iopub.status.idle": "2023-05-09T13:51:47.204140Z",
     "shell.execute_reply": "2023-05-09T13:51:47.202938Z",
     "shell.execute_reply.started": "2023-05-09T13:51:47.189370Z"
    }
   },
   "outputs": [
    {
     "name": "stdout",
     "output_type": "stream",
     "text": [
      "              precision    recall  f1-score   support\n",
      "\n",
      "           0       0.98      0.98      0.98       200\n",
      "           1       1.00      1.00      1.00       141\n",
      "           2       0.98      0.98      0.98       151\n",
      "           3       1.00      0.99      1.00       307\n",
      "           4       0.98      0.97      0.98       119\n",
      "           5       0.96      0.97      0.96        90\n",
      "           6       0.99      1.00      0.99       409\n",
      "\n",
      "    accuracy                           0.99      1417\n",
      "   macro avg       0.98      0.99      0.98      1417\n",
      "weighted avg       0.99      0.99      0.99      1417\n",
      "\n"
     ]
    }
   ],
   "source": [
    "print(classification_report(np.argmax(y_test, axis=1), y_pred))"
   ]
  },
  {
   "cell_type": "markdown",
   "metadata": {},
   "source": [
    "# **CNN-GRU-Pruned-pQuantized(Tflite)**\n",
    "\n",
    "Total Params = 115601\n",
    "\n",
    "Average Inference Time (for each step) = 1.22ms\n",
    "\n",
    "Accuracy = 99%\n",
    "\n",
    "Model Size(on system) = 131 KB"
   ]
  },
  {
   "cell_type": "markdown",
   "metadata": {},
   "source": [
    "#  **Result Comparison**"
   ]
  },
  {
   "cell_type": "markdown",
   "metadata": {},
   "source": [
    "| Model Name        | Total Params | Average Inference Time (per step) | Accuracy | Model Size (on system) |\n",
    "|------------------|--------------|----------------------------------|----------|------------------------|\n",
    "| Original Bi-LSTM | 629207       | 37 ms                            | 98%      | 7.25 MB                |\n",
    "| Bi-GRU           | 514007       | 33 ms                            | 99%      | 5.93 MB                |\n",
    "| CNN-GRU          | 230239       | 9 ms                             | 98%      | 1.36 MB                |\n",
    "| CNN-GRU-Pruned   | 115601       | 7 ms                             | 99%      | 471 KB                 |\n",
    "| CNN-GRU-Pruned-pQuantized(TFLite) | 115601 | 1.22 ms                | 99%      | 131 KB                 |"
   ]
  }
 ],
 "metadata": {
  "kernelspec": {
   "display_name": "Python 3 (ipykernel)",
   "language": "python",
   "name": "python3"
  },
  "language_info": {
   "codemirror_mode": {
    "name": "ipython",
    "version": 3
   },
   "file_extension": ".py",
   "mimetype": "text/x-python",
   "name": "python",
   "nbconvert_exporter": "python",
   "pygments_lexer": "ipython3",
   "version": "3.9.12"
  }
 },
 "nbformat": 4,
 "nbformat_minor": 4
}
